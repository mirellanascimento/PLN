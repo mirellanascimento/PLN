{
  "nbformat": 4,
  "nbformat_minor": 0,
  "metadata": {
    "colab": {
      "provenance": [],
      "collapsed_sections": []
    },
    "kernelspec": {
      "name": "python3",
      "display_name": "Python 3"
    },
    "language_info": {
      "name": "python"
    },
    "accelerator": "GPU"
  },
  "cells": [
    {
      "cell_type": "markdown",
      "source": [
        "Dectection of Hate Speech Using a Brazilian Twitter Dataset\n",
        "\n"
      ],
      "metadata": {
        "id": "P3bEU6iEnKsh"
      }
    },
    {
      "cell_type": "code",
      "source": [
        "#!pip install gensim\n",
        "#!pip install python-Levenshtein"
      ],
      "metadata": {
        "id": "skepGjXa-Ork"
      },
      "execution_count": 1,
      "outputs": []
    },
    {
      "cell_type": "code",
      "source": [
        "import pandas as pd\n",
        "import numpy as np\n",
        "import re\n",
        "from gensim.models import Word2Vec\n",
        "from keras.utils.np_utils import to_categorical\n",
        "from keras.models import Sequential, Model\n",
        "from keras.layers import Dense,Conv1D,Embedding,GlobalMaxPooling1D,MaxPooling1D,MaxPooling2D,Activation,Flatten, Dropout, concatenate, Conv2D, Reshape, Input\n",
        "from keras import regularizers\n",
        "from tensorflow.keras.preprocessing.text import Tokenizer\n",
        "from tensorflow.keras.preprocessing.sequence import pad_sequences\n",
        "from keras.utils.np_utils import to_categorical\n",
        "from sklearn.metrics import classification_report\n",
        "from tensorflow.keras.optimizers import SGD\n",
        "from tensorflow import keras\n",
        "import matplotlib.pyplot as plt\n",
        "import tensorflow as tf\n",
        "from sklearn.model_selection import train_test_split\n",
        "\n",
        "# Remoção de stopwords\n",
        "import nltk\n",
        "from nltk.corpus import stopwords\n",
        "from nltk.tokenize import word_tokenize\n"
      ],
      "metadata": {
        "id": "3wmAo3Z_nKL2"
      },
      "execution_count": 2,
      "outputs": []
    },
    {
      "cell_type": "code",
      "source": [
        "nltk.download('stopwords')\n",
        "nltk.download('wordnet')\n",
        "nltk.download('omw-1.4')"
      ],
      "metadata": {
        "id": "SyDlbtW11DVb",
        "colab": {
          "base_uri": "https://localhost:8080/"
        },
        "outputId": "e58941c9-9d13-44a3-beba-c28c5ad460d4"
      },
      "execution_count": 3,
      "outputs": [
        {
          "output_type": "stream",
          "name": "stderr",
          "text": [
            "[nltk_data] Downloading package stopwords to /root/nltk_data...\n",
            "[nltk_data]   Unzipping corpora/stopwords.zip.\n",
            "[nltk_data] Downloading package wordnet to /root/nltk_data...\n",
            "[nltk_data] Downloading package omw-1.4 to /root/nltk_data...\n"
          ]
        },
        {
          "output_type": "execute_result",
          "data": {
            "text/plain": [
              "True"
            ]
          },
          "metadata": {},
          "execution_count": 3
        }
      ]
    },
    {
      "cell_type": "code",
      "execution_count": 4,
      "metadata": {
        "id": "qG_WMPu-IDuz"
      },
      "outputs": [],
      "source": [
        "df = pd.read_csv('https://raw.githubusercontent.com/JAugusto97/ToLD-Br/main/ToLD-BR.csv')"
      ]
    },
    {
      "cell_type": "code",
      "source": [
        "df.head()"
      ],
      "metadata": {
        "id": "It1tdXipZo2g",
        "colab": {
          "base_uri": "https://localhost:8080/",
          "height": 206
        },
        "outputId": "a435dc1b-6301-41cd-e412-7fc7baf3f315"
      },
      "execution_count": 5,
      "outputs": [
        {
          "output_type": "execute_result",
          "data": {
            "text/plain": [
              "                                                text  homophobia  obscene  \\\n",
              "0  Meu nivel de amizade com isis é ela ter meu in...         0.0      0.0   \n",
              "1  rt @user @user o cara adultera dados, que fora...         0.0      0.0   \n",
              "2  @user @user @user o cara só é simplesmente o m...         0.0      2.0   \n",
              "3  eu to chorando vei vsf e eu nem staneio izone ...         0.0      1.0   \n",
              "4  Eleitor do Bolsonaro é tão ignorante q não per...         0.0      1.0   \n",
              "\n",
              "   insult  racism  misogyny  xenophobia  \n",
              "0     2.0     0.0       0.0         0.0  \n",
              "1     1.0     0.0       0.0         0.0  \n",
              "2     1.0     0.0       0.0         0.0  \n",
              "3     0.0     0.0       0.0         0.0  \n",
              "4     2.0     0.0       0.0         0.0  "
            ],
            "text/html": [
              "\n",
              "  <div id=\"df-90d4d0cc-c3ff-4a1d-8bd2-3a18ab1024fa\">\n",
              "    <div class=\"colab-df-container\">\n",
              "      <div>\n",
              "<style scoped>\n",
              "    .dataframe tbody tr th:only-of-type {\n",
              "        vertical-align: middle;\n",
              "    }\n",
              "\n",
              "    .dataframe tbody tr th {\n",
              "        vertical-align: top;\n",
              "    }\n",
              "\n",
              "    .dataframe thead th {\n",
              "        text-align: right;\n",
              "    }\n",
              "</style>\n",
              "<table border=\"1\" class=\"dataframe\">\n",
              "  <thead>\n",
              "    <tr style=\"text-align: right;\">\n",
              "      <th></th>\n",
              "      <th>text</th>\n",
              "      <th>homophobia</th>\n",
              "      <th>obscene</th>\n",
              "      <th>insult</th>\n",
              "      <th>racism</th>\n",
              "      <th>misogyny</th>\n",
              "      <th>xenophobia</th>\n",
              "    </tr>\n",
              "  </thead>\n",
              "  <tbody>\n",
              "    <tr>\n",
              "      <th>0</th>\n",
              "      <td>Meu nivel de amizade com isis é ela ter meu in...</td>\n",
              "      <td>0.0</td>\n",
              "      <td>0.0</td>\n",
              "      <td>2.0</td>\n",
              "      <td>0.0</td>\n",
              "      <td>0.0</td>\n",
              "      <td>0.0</td>\n",
              "    </tr>\n",
              "    <tr>\n",
              "      <th>1</th>\n",
              "      <td>rt @user @user o cara adultera dados, que fora...</td>\n",
              "      <td>0.0</td>\n",
              "      <td>0.0</td>\n",
              "      <td>1.0</td>\n",
              "      <td>0.0</td>\n",
              "      <td>0.0</td>\n",
              "      <td>0.0</td>\n",
              "    </tr>\n",
              "    <tr>\n",
              "      <th>2</th>\n",
              "      <td>@user @user @user o cara só é simplesmente o m...</td>\n",
              "      <td>0.0</td>\n",
              "      <td>2.0</td>\n",
              "      <td>1.0</td>\n",
              "      <td>0.0</td>\n",
              "      <td>0.0</td>\n",
              "      <td>0.0</td>\n",
              "    </tr>\n",
              "    <tr>\n",
              "      <th>3</th>\n",
              "      <td>eu to chorando vei vsf e eu nem staneio izone ...</td>\n",
              "      <td>0.0</td>\n",
              "      <td>1.0</td>\n",
              "      <td>0.0</td>\n",
              "      <td>0.0</td>\n",
              "      <td>0.0</td>\n",
              "      <td>0.0</td>\n",
              "    </tr>\n",
              "    <tr>\n",
              "      <th>4</th>\n",
              "      <td>Eleitor do Bolsonaro é tão ignorante q não per...</td>\n",
              "      <td>0.0</td>\n",
              "      <td>1.0</td>\n",
              "      <td>2.0</td>\n",
              "      <td>0.0</td>\n",
              "      <td>0.0</td>\n",
              "      <td>0.0</td>\n",
              "    </tr>\n",
              "  </tbody>\n",
              "</table>\n",
              "</div>\n",
              "      <button class=\"colab-df-convert\" onclick=\"convertToInteractive('df-90d4d0cc-c3ff-4a1d-8bd2-3a18ab1024fa')\"\n",
              "              title=\"Convert this dataframe to an interactive table.\"\n",
              "              style=\"display:none;\">\n",
              "        \n",
              "  <svg xmlns=\"http://www.w3.org/2000/svg\" height=\"24px\"viewBox=\"0 0 24 24\"\n",
              "       width=\"24px\">\n",
              "    <path d=\"M0 0h24v24H0V0z\" fill=\"none\"/>\n",
              "    <path d=\"M18.56 5.44l.94 2.06.94-2.06 2.06-.94-2.06-.94-.94-2.06-.94 2.06-2.06.94zm-11 1L8.5 8.5l.94-2.06 2.06-.94-2.06-.94L8.5 2.5l-.94 2.06-2.06.94zm10 10l.94 2.06.94-2.06 2.06-.94-2.06-.94-.94-2.06-.94 2.06-2.06.94z\"/><path d=\"M17.41 7.96l-1.37-1.37c-.4-.4-.92-.59-1.43-.59-.52 0-1.04.2-1.43.59L10.3 9.45l-7.72 7.72c-.78.78-.78 2.05 0 2.83L4 21.41c.39.39.9.59 1.41.59.51 0 1.02-.2 1.41-.59l7.78-7.78 2.81-2.81c.8-.78.8-2.07 0-2.86zM5.41 20L4 18.59l7.72-7.72 1.47 1.35L5.41 20z\"/>\n",
              "  </svg>\n",
              "      </button>\n",
              "      \n",
              "  <style>\n",
              "    .colab-df-container {\n",
              "      display:flex;\n",
              "      flex-wrap:wrap;\n",
              "      gap: 12px;\n",
              "    }\n",
              "\n",
              "    .colab-df-convert {\n",
              "      background-color: #E8F0FE;\n",
              "      border: none;\n",
              "      border-radius: 50%;\n",
              "      cursor: pointer;\n",
              "      display: none;\n",
              "      fill: #1967D2;\n",
              "      height: 32px;\n",
              "      padding: 0 0 0 0;\n",
              "      width: 32px;\n",
              "    }\n",
              "\n",
              "    .colab-df-convert:hover {\n",
              "      background-color: #E2EBFA;\n",
              "      box-shadow: 0px 1px 2px rgba(60, 64, 67, 0.3), 0px 1px 3px 1px rgba(60, 64, 67, 0.15);\n",
              "      fill: #174EA6;\n",
              "    }\n",
              "\n",
              "    [theme=dark] .colab-df-convert {\n",
              "      background-color: #3B4455;\n",
              "      fill: #D2E3FC;\n",
              "    }\n",
              "\n",
              "    [theme=dark] .colab-df-convert:hover {\n",
              "      background-color: #434B5C;\n",
              "      box-shadow: 0px 1px 3px 1px rgba(0, 0, 0, 0.15);\n",
              "      filter: drop-shadow(0px 1px 2px rgba(0, 0, 0, 0.3));\n",
              "      fill: #FFFFFF;\n",
              "    }\n",
              "  </style>\n",
              "\n",
              "      <script>\n",
              "        const buttonEl =\n",
              "          document.querySelector('#df-90d4d0cc-c3ff-4a1d-8bd2-3a18ab1024fa button.colab-df-convert');\n",
              "        buttonEl.style.display =\n",
              "          google.colab.kernel.accessAllowed ? 'block' : 'none';\n",
              "\n",
              "        async function convertToInteractive(key) {\n",
              "          const element = document.querySelector('#df-90d4d0cc-c3ff-4a1d-8bd2-3a18ab1024fa');\n",
              "          const dataTable =\n",
              "            await google.colab.kernel.invokeFunction('convertToInteractive',\n",
              "                                                     [key], {});\n",
              "          if (!dataTable) return;\n",
              "\n",
              "          const docLinkHtml = 'Like what you see? Visit the ' +\n",
              "            '<a target=\"_blank\" href=https://colab.research.google.com/notebooks/data_table.ipynb>data table notebook</a>'\n",
              "            + ' to learn more about interactive tables.';\n",
              "          element.innerHTML = '';\n",
              "          dataTable['output_type'] = 'display_data';\n",
              "          await google.colab.output.renderOutput(dataTable, element);\n",
              "          const docLink = document.createElement('div');\n",
              "          docLink.innerHTML = docLinkHtml;\n",
              "          element.appendChild(docLink);\n",
              "        }\n",
              "      </script>\n",
              "    </div>\n",
              "  </div>\n",
              "  "
            ]
          },
          "metadata": {},
          "execution_count": 5
        }
      ]
    },
    {
      "cell_type": "markdown",
      "source": [
        "Como o problema a ser solucionado é de classificação de duas classes, ofensivo ou não, o dataset precisa ser transformado para representar esse tipo de problema"
      ],
      "metadata": {
        "id": "p-Bq7JgKfyCW"
      }
    },
    {
      "cell_type": "code",
      "source": [
        "def label(a, b, c, d, e, f):\n",
        "  if a == b == c == d == e == f == 0:\n",
        "    return 'non-toxic'\n",
        "  else: \n",
        "    return 'toxic'\n",
        "\n",
        "df['label'] = df.apply(lambda row : label(row['homophobia'], row['obscene'], row['insult'], \n",
        "                                          row['racism'], row['misogyny'], row['xenophobia']), axis = 1)"
      ],
      "metadata": {
        "id": "oyg321Z311nF"
      },
      "execution_count": 6,
      "outputs": []
    },
    {
      "cell_type": "code",
      "source": [
        "df"
      ],
      "metadata": {
        "id": "MZLjizug-xRs",
        "colab": {
          "base_uri": "https://localhost:8080/",
          "height": 423
        },
        "outputId": "ff8234df-cd10-4e3d-d3f8-389f9c594584"
      },
      "execution_count": 7,
      "outputs": [
        {
          "output_type": "execute_result",
          "data": {
            "text/plain": [
              "                                                    text  homophobia  obscene  \\\n",
              "0      Meu nivel de amizade com isis é ela ter meu in...         0.0      0.0   \n",
              "1      rt @user @user o cara adultera dados, que fora...         0.0      0.0   \n",
              "2      @user @user @user o cara só é simplesmente o m...         0.0      2.0   \n",
              "3      eu to chorando vei vsf e eu nem staneio izone ...         0.0      1.0   \n",
              "4      Eleitor do Bolsonaro é tão ignorante q não per...         0.0      1.0   \n",
              "...                                                  ...         ...      ...   \n",
              "20995                          @user faz favor vai carai         0.0      0.0   \n",
              "20996  só queria conhecer alguém que não conhece o he...         1.0      0.0   \n",
              "20997  vcs militam na hora errada em cima de memes, p...         0.0      0.0   \n",
              "20998  @user porra any eu tava c dor de cabeca e fui ...         0.0      0.0   \n",
              "20999  saudades da iasmin de 2017 eu era gótica demai...         0.0      0.0   \n",
              "\n",
              "       insult  racism  misogyny  xenophobia      label  \n",
              "0         2.0     0.0       0.0         0.0      toxic  \n",
              "1         1.0     0.0       0.0         0.0      toxic  \n",
              "2         1.0     0.0       0.0         0.0      toxic  \n",
              "3         0.0     0.0       0.0         0.0      toxic  \n",
              "4         2.0     0.0       0.0         0.0      toxic  \n",
              "...       ...     ...       ...         ...        ...  \n",
              "20995     0.0     0.0       0.0         0.0  non-toxic  \n",
              "20996     0.0     0.0       0.0         0.0      toxic  \n",
              "20997     0.0     0.0       0.0         0.0  non-toxic  \n",
              "20998     0.0     0.0       0.0         0.0  non-toxic  \n",
              "20999     0.0     0.0       0.0         0.0  non-toxic  \n",
              "\n",
              "[21000 rows x 8 columns]"
            ],
            "text/html": [
              "\n",
              "  <div id=\"df-3a4c2061-791d-470f-bab9-dd1c0f197aa8\">\n",
              "    <div class=\"colab-df-container\">\n",
              "      <div>\n",
              "<style scoped>\n",
              "    .dataframe tbody tr th:only-of-type {\n",
              "        vertical-align: middle;\n",
              "    }\n",
              "\n",
              "    .dataframe tbody tr th {\n",
              "        vertical-align: top;\n",
              "    }\n",
              "\n",
              "    .dataframe thead th {\n",
              "        text-align: right;\n",
              "    }\n",
              "</style>\n",
              "<table border=\"1\" class=\"dataframe\">\n",
              "  <thead>\n",
              "    <tr style=\"text-align: right;\">\n",
              "      <th></th>\n",
              "      <th>text</th>\n",
              "      <th>homophobia</th>\n",
              "      <th>obscene</th>\n",
              "      <th>insult</th>\n",
              "      <th>racism</th>\n",
              "      <th>misogyny</th>\n",
              "      <th>xenophobia</th>\n",
              "      <th>label</th>\n",
              "    </tr>\n",
              "  </thead>\n",
              "  <tbody>\n",
              "    <tr>\n",
              "      <th>0</th>\n",
              "      <td>Meu nivel de amizade com isis é ela ter meu in...</td>\n",
              "      <td>0.0</td>\n",
              "      <td>0.0</td>\n",
              "      <td>2.0</td>\n",
              "      <td>0.0</td>\n",
              "      <td>0.0</td>\n",
              "      <td>0.0</td>\n",
              "      <td>toxic</td>\n",
              "    </tr>\n",
              "    <tr>\n",
              "      <th>1</th>\n",
              "      <td>rt @user @user o cara adultera dados, que fora...</td>\n",
              "      <td>0.0</td>\n",
              "      <td>0.0</td>\n",
              "      <td>1.0</td>\n",
              "      <td>0.0</td>\n",
              "      <td>0.0</td>\n",
              "      <td>0.0</td>\n",
              "      <td>toxic</td>\n",
              "    </tr>\n",
              "    <tr>\n",
              "      <th>2</th>\n",
              "      <td>@user @user @user o cara só é simplesmente o m...</td>\n",
              "      <td>0.0</td>\n",
              "      <td>2.0</td>\n",
              "      <td>1.0</td>\n",
              "      <td>0.0</td>\n",
              "      <td>0.0</td>\n",
              "      <td>0.0</td>\n",
              "      <td>toxic</td>\n",
              "    </tr>\n",
              "    <tr>\n",
              "      <th>3</th>\n",
              "      <td>eu to chorando vei vsf e eu nem staneio izone ...</td>\n",
              "      <td>0.0</td>\n",
              "      <td>1.0</td>\n",
              "      <td>0.0</td>\n",
              "      <td>0.0</td>\n",
              "      <td>0.0</td>\n",
              "      <td>0.0</td>\n",
              "      <td>toxic</td>\n",
              "    </tr>\n",
              "    <tr>\n",
              "      <th>4</th>\n",
              "      <td>Eleitor do Bolsonaro é tão ignorante q não per...</td>\n",
              "      <td>0.0</td>\n",
              "      <td>1.0</td>\n",
              "      <td>2.0</td>\n",
              "      <td>0.0</td>\n",
              "      <td>0.0</td>\n",
              "      <td>0.0</td>\n",
              "      <td>toxic</td>\n",
              "    </tr>\n",
              "    <tr>\n",
              "      <th>...</th>\n",
              "      <td>...</td>\n",
              "      <td>...</td>\n",
              "      <td>...</td>\n",
              "      <td>...</td>\n",
              "      <td>...</td>\n",
              "      <td>...</td>\n",
              "      <td>...</td>\n",
              "      <td>...</td>\n",
              "    </tr>\n",
              "    <tr>\n",
              "      <th>20995</th>\n",
              "      <td>@user faz favor vai carai</td>\n",
              "      <td>0.0</td>\n",
              "      <td>0.0</td>\n",
              "      <td>0.0</td>\n",
              "      <td>0.0</td>\n",
              "      <td>0.0</td>\n",
              "      <td>0.0</td>\n",
              "      <td>non-toxic</td>\n",
              "    </tr>\n",
              "    <tr>\n",
              "      <th>20996</th>\n",
              "      <td>só queria conhecer alguém que não conhece o he...</td>\n",
              "      <td>1.0</td>\n",
              "      <td>0.0</td>\n",
              "      <td>0.0</td>\n",
              "      <td>0.0</td>\n",
              "      <td>0.0</td>\n",
              "      <td>0.0</td>\n",
              "      <td>toxic</td>\n",
              "    </tr>\n",
              "    <tr>\n",
              "      <th>20997</th>\n",
              "      <td>vcs militam na hora errada em cima de memes, p...</td>\n",
              "      <td>0.0</td>\n",
              "      <td>0.0</td>\n",
              "      <td>0.0</td>\n",
              "      <td>0.0</td>\n",
              "      <td>0.0</td>\n",
              "      <td>0.0</td>\n",
              "      <td>non-toxic</td>\n",
              "    </tr>\n",
              "    <tr>\n",
              "      <th>20998</th>\n",
              "      <td>@user porra any eu tava c dor de cabeca e fui ...</td>\n",
              "      <td>0.0</td>\n",
              "      <td>0.0</td>\n",
              "      <td>0.0</td>\n",
              "      <td>0.0</td>\n",
              "      <td>0.0</td>\n",
              "      <td>0.0</td>\n",
              "      <td>non-toxic</td>\n",
              "    </tr>\n",
              "    <tr>\n",
              "      <th>20999</th>\n",
              "      <td>saudades da iasmin de 2017 eu era gótica demai...</td>\n",
              "      <td>0.0</td>\n",
              "      <td>0.0</td>\n",
              "      <td>0.0</td>\n",
              "      <td>0.0</td>\n",
              "      <td>0.0</td>\n",
              "      <td>0.0</td>\n",
              "      <td>non-toxic</td>\n",
              "    </tr>\n",
              "  </tbody>\n",
              "</table>\n",
              "<p>21000 rows × 8 columns</p>\n",
              "</div>\n",
              "      <button class=\"colab-df-convert\" onclick=\"convertToInteractive('df-3a4c2061-791d-470f-bab9-dd1c0f197aa8')\"\n",
              "              title=\"Convert this dataframe to an interactive table.\"\n",
              "              style=\"display:none;\">\n",
              "        \n",
              "  <svg xmlns=\"http://www.w3.org/2000/svg\" height=\"24px\"viewBox=\"0 0 24 24\"\n",
              "       width=\"24px\">\n",
              "    <path d=\"M0 0h24v24H0V0z\" fill=\"none\"/>\n",
              "    <path d=\"M18.56 5.44l.94 2.06.94-2.06 2.06-.94-2.06-.94-.94-2.06-.94 2.06-2.06.94zm-11 1L8.5 8.5l.94-2.06 2.06-.94-2.06-.94L8.5 2.5l-.94 2.06-2.06.94zm10 10l.94 2.06.94-2.06 2.06-.94-2.06-.94-.94-2.06-.94 2.06-2.06.94z\"/><path d=\"M17.41 7.96l-1.37-1.37c-.4-.4-.92-.59-1.43-.59-.52 0-1.04.2-1.43.59L10.3 9.45l-7.72 7.72c-.78.78-.78 2.05 0 2.83L4 21.41c.39.39.9.59 1.41.59.51 0 1.02-.2 1.41-.59l7.78-7.78 2.81-2.81c.8-.78.8-2.07 0-2.86zM5.41 20L4 18.59l7.72-7.72 1.47 1.35L5.41 20z\"/>\n",
              "  </svg>\n",
              "      </button>\n",
              "      \n",
              "  <style>\n",
              "    .colab-df-container {\n",
              "      display:flex;\n",
              "      flex-wrap:wrap;\n",
              "      gap: 12px;\n",
              "    }\n",
              "\n",
              "    .colab-df-convert {\n",
              "      background-color: #E8F0FE;\n",
              "      border: none;\n",
              "      border-radius: 50%;\n",
              "      cursor: pointer;\n",
              "      display: none;\n",
              "      fill: #1967D2;\n",
              "      height: 32px;\n",
              "      padding: 0 0 0 0;\n",
              "      width: 32px;\n",
              "    }\n",
              "\n",
              "    .colab-df-convert:hover {\n",
              "      background-color: #E2EBFA;\n",
              "      box-shadow: 0px 1px 2px rgba(60, 64, 67, 0.3), 0px 1px 3px 1px rgba(60, 64, 67, 0.15);\n",
              "      fill: #174EA6;\n",
              "    }\n",
              "\n",
              "    [theme=dark] .colab-df-convert {\n",
              "      background-color: #3B4455;\n",
              "      fill: #D2E3FC;\n",
              "    }\n",
              "\n",
              "    [theme=dark] .colab-df-convert:hover {\n",
              "      background-color: #434B5C;\n",
              "      box-shadow: 0px 1px 3px 1px rgba(0, 0, 0, 0.15);\n",
              "      filter: drop-shadow(0px 1px 2px rgba(0, 0, 0, 0.3));\n",
              "      fill: #FFFFFF;\n",
              "    }\n",
              "  </style>\n",
              "\n",
              "      <script>\n",
              "        const buttonEl =\n",
              "          document.querySelector('#df-3a4c2061-791d-470f-bab9-dd1c0f197aa8 button.colab-df-convert');\n",
              "        buttonEl.style.display =\n",
              "          google.colab.kernel.accessAllowed ? 'block' : 'none';\n",
              "\n",
              "        async function convertToInteractive(key) {\n",
              "          const element = document.querySelector('#df-3a4c2061-791d-470f-bab9-dd1c0f197aa8');\n",
              "          const dataTable =\n",
              "            await google.colab.kernel.invokeFunction('convertToInteractive',\n",
              "                                                     [key], {});\n",
              "          if (!dataTable) return;\n",
              "\n",
              "          const docLinkHtml = 'Like what you see? Visit the ' +\n",
              "            '<a target=\"_blank\" href=https://colab.research.google.com/notebooks/data_table.ipynb>data table notebook</a>'\n",
              "            + ' to learn more about interactive tables.';\n",
              "          element.innerHTML = '';\n",
              "          dataTable['output_type'] = 'display_data';\n",
              "          await google.colab.output.renderOutput(dataTable, element);\n",
              "          const docLink = document.createElement('div');\n",
              "          docLink.innerHTML = docLinkHtml;\n",
              "          element.appendChild(docLink);\n",
              "        }\n",
              "      </script>\n",
              "    </div>\n",
              "  </div>\n",
              "  "
            ]
          },
          "metadata": {},
          "execution_count": 7
        }
      ]
    },
    {
      "cell_type": "code",
      "source": [
        "df = df[['text', 'label']]\n",
        "df.head()"
      ],
      "metadata": {
        "id": "6dZcVCpVdzA3",
        "colab": {
          "base_uri": "https://localhost:8080/",
          "height": 206
        },
        "outputId": "826906f9-d3e6-43ad-ecb1-52f2c1095db7"
      },
      "execution_count": 8,
      "outputs": [
        {
          "output_type": "execute_result",
          "data": {
            "text/plain": [
              "                                                text  label\n",
              "0  Meu nivel de amizade com isis é ela ter meu in...  toxic\n",
              "1  rt @user @user o cara adultera dados, que fora...  toxic\n",
              "2  @user @user @user o cara só é simplesmente o m...  toxic\n",
              "3  eu to chorando vei vsf e eu nem staneio izone ...  toxic\n",
              "4  Eleitor do Bolsonaro é tão ignorante q não per...  toxic"
            ],
            "text/html": [
              "\n",
              "  <div id=\"df-4171a493-2646-42d4-9a0c-14c7a9cd3ba6\">\n",
              "    <div class=\"colab-df-container\">\n",
              "      <div>\n",
              "<style scoped>\n",
              "    .dataframe tbody tr th:only-of-type {\n",
              "        vertical-align: middle;\n",
              "    }\n",
              "\n",
              "    .dataframe tbody tr th {\n",
              "        vertical-align: top;\n",
              "    }\n",
              "\n",
              "    .dataframe thead th {\n",
              "        text-align: right;\n",
              "    }\n",
              "</style>\n",
              "<table border=\"1\" class=\"dataframe\">\n",
              "  <thead>\n",
              "    <tr style=\"text-align: right;\">\n",
              "      <th></th>\n",
              "      <th>text</th>\n",
              "      <th>label</th>\n",
              "    </tr>\n",
              "  </thead>\n",
              "  <tbody>\n",
              "    <tr>\n",
              "      <th>0</th>\n",
              "      <td>Meu nivel de amizade com isis é ela ter meu in...</td>\n",
              "      <td>toxic</td>\n",
              "    </tr>\n",
              "    <tr>\n",
              "      <th>1</th>\n",
              "      <td>rt @user @user o cara adultera dados, que fora...</td>\n",
              "      <td>toxic</td>\n",
              "    </tr>\n",
              "    <tr>\n",
              "      <th>2</th>\n",
              "      <td>@user @user @user o cara só é simplesmente o m...</td>\n",
              "      <td>toxic</td>\n",
              "    </tr>\n",
              "    <tr>\n",
              "      <th>3</th>\n",
              "      <td>eu to chorando vei vsf e eu nem staneio izone ...</td>\n",
              "      <td>toxic</td>\n",
              "    </tr>\n",
              "    <tr>\n",
              "      <th>4</th>\n",
              "      <td>Eleitor do Bolsonaro é tão ignorante q não per...</td>\n",
              "      <td>toxic</td>\n",
              "    </tr>\n",
              "  </tbody>\n",
              "</table>\n",
              "</div>\n",
              "      <button class=\"colab-df-convert\" onclick=\"convertToInteractive('df-4171a493-2646-42d4-9a0c-14c7a9cd3ba6')\"\n",
              "              title=\"Convert this dataframe to an interactive table.\"\n",
              "              style=\"display:none;\">\n",
              "        \n",
              "  <svg xmlns=\"http://www.w3.org/2000/svg\" height=\"24px\"viewBox=\"0 0 24 24\"\n",
              "       width=\"24px\">\n",
              "    <path d=\"M0 0h24v24H0V0z\" fill=\"none\"/>\n",
              "    <path d=\"M18.56 5.44l.94 2.06.94-2.06 2.06-.94-2.06-.94-.94-2.06-.94 2.06-2.06.94zm-11 1L8.5 8.5l.94-2.06 2.06-.94-2.06-.94L8.5 2.5l-.94 2.06-2.06.94zm10 10l.94 2.06.94-2.06 2.06-.94-2.06-.94-.94-2.06-.94 2.06-2.06.94z\"/><path d=\"M17.41 7.96l-1.37-1.37c-.4-.4-.92-.59-1.43-.59-.52 0-1.04.2-1.43.59L10.3 9.45l-7.72 7.72c-.78.78-.78 2.05 0 2.83L4 21.41c.39.39.9.59 1.41.59.51 0 1.02-.2 1.41-.59l7.78-7.78 2.81-2.81c.8-.78.8-2.07 0-2.86zM5.41 20L4 18.59l7.72-7.72 1.47 1.35L5.41 20z\"/>\n",
              "  </svg>\n",
              "      </button>\n",
              "      \n",
              "  <style>\n",
              "    .colab-df-container {\n",
              "      display:flex;\n",
              "      flex-wrap:wrap;\n",
              "      gap: 12px;\n",
              "    }\n",
              "\n",
              "    .colab-df-convert {\n",
              "      background-color: #E8F0FE;\n",
              "      border: none;\n",
              "      border-radius: 50%;\n",
              "      cursor: pointer;\n",
              "      display: none;\n",
              "      fill: #1967D2;\n",
              "      height: 32px;\n",
              "      padding: 0 0 0 0;\n",
              "      width: 32px;\n",
              "    }\n",
              "\n",
              "    .colab-df-convert:hover {\n",
              "      background-color: #E2EBFA;\n",
              "      box-shadow: 0px 1px 2px rgba(60, 64, 67, 0.3), 0px 1px 3px 1px rgba(60, 64, 67, 0.15);\n",
              "      fill: #174EA6;\n",
              "    }\n",
              "\n",
              "    [theme=dark] .colab-df-convert {\n",
              "      background-color: #3B4455;\n",
              "      fill: #D2E3FC;\n",
              "    }\n",
              "\n",
              "    [theme=dark] .colab-df-convert:hover {\n",
              "      background-color: #434B5C;\n",
              "      box-shadow: 0px 1px 3px 1px rgba(0, 0, 0, 0.15);\n",
              "      filter: drop-shadow(0px 1px 2px rgba(0, 0, 0, 0.3));\n",
              "      fill: #FFFFFF;\n",
              "    }\n",
              "  </style>\n",
              "\n",
              "      <script>\n",
              "        const buttonEl =\n",
              "          document.querySelector('#df-4171a493-2646-42d4-9a0c-14c7a9cd3ba6 button.colab-df-convert');\n",
              "        buttonEl.style.display =\n",
              "          google.colab.kernel.accessAllowed ? 'block' : 'none';\n",
              "\n",
              "        async function convertToInteractive(key) {\n",
              "          const element = document.querySelector('#df-4171a493-2646-42d4-9a0c-14c7a9cd3ba6');\n",
              "          const dataTable =\n",
              "            await google.colab.kernel.invokeFunction('convertToInteractive',\n",
              "                                                     [key], {});\n",
              "          if (!dataTable) return;\n",
              "\n",
              "          const docLinkHtml = 'Like what you see? Visit the ' +\n",
              "            '<a target=\"_blank\" href=https://colab.research.google.com/notebooks/data_table.ipynb>data table notebook</a>'\n",
              "            + ' to learn more about interactive tables.';\n",
              "          element.innerHTML = '';\n",
              "          dataTable['output_type'] = 'display_data';\n",
              "          await google.colab.output.renderOutput(dataTable, element);\n",
              "          const docLink = document.createElement('div');\n",
              "          docLink.innerHTML = docLinkHtml;\n",
              "          element.appendChild(docLink);\n",
              "        }\n",
              "      </script>\n",
              "    </div>\n",
              "  </div>\n",
              "  "
            ]
          },
          "metadata": {},
          "execution_count": 8
        }
      ]
    },
    {
      "cell_type": "markdown",
      "source": [
        "## Pre-processing\n"
      ],
      "metadata": {
        "id": "nDenfYKAqTp2"
      }
    },
    {
      "cell_type": "code",
      "source": [
        "def pre_processing(input_text):\n",
        "\n",
        "  stop_words = set(stopwords.words('portuguese'))\n",
        "\n",
        "  #for emot in EMOTICONS:\n",
        "  #  input_text = re.sub(u'('+emot+')', \"_\".join(EMOTICONS[emot].replace(\",\",\"\").split()), input_text)\n",
        "\n",
        "  words = re.sub(r'@[A-Za-z0-9]+', \" \", input_text.lower())\n",
        "  words = re.sub(r'https?://\\S+|www\\.\\S+', \"\", words)\n",
        "  words = re.sub(r'rt[\\s]+', \"\", words)\n",
        "  words = re.sub(r'[^\\w\\s]', \"\", words)\n",
        "  words = words.strip()\n",
        "  \n",
        "  phrase = \"\"\n",
        "  words = words.split()\n",
        "\n",
        "  for x in words:\n",
        "    if x not in stop_words:\n",
        "      phrase = phrase + \" \" + x\n",
        "\n",
        "     \n",
        "  return phrase\n",
        "\n",
        "df['text'] = np.vectorize(pre_processing)(df['text']) "
      ],
      "metadata": {
        "id": "FqoNxWWJryhz",
        "colab": {
          "base_uri": "https://localhost:8080/"
        },
        "outputId": "0aa3424d-72ec-40d0-da5e-491954d33419"
      },
      "execution_count": 9,
      "outputs": [
        {
          "output_type": "stream",
          "name": "stderr",
          "text": [
            "/usr/local/lib/python3.7/dist-packages/ipykernel_launcher.py:24: SettingWithCopyWarning: \n",
            "A value is trying to be set on a copy of a slice from a DataFrame.\n",
            "Try using .loc[row_indexer,col_indexer] = value instead\n",
            "\n",
            "See the caveats in the documentation: https://pandas.pydata.org/pandas-docs/stable/user_guide/indexing.html#returning-a-view-versus-a-copy\n"
          ]
        }
      ]
    },
    {
      "cell_type": "code",
      "source": [
        "df"
      ],
      "metadata": {
        "id": "ADu8HBoeNkDx",
        "colab": {
          "base_uri": "https://localhost:8080/",
          "height": 423
        },
        "outputId": "9ea21cb0-c683-4ac5-d554-4325506ef6b2"
      },
      "execution_count": 10,
      "outputs": [
        {
          "output_type": "execute_result",
          "data": {
            "text/plain": [
              "                                                    text      label\n",
              "0       nivel amizade isis ter insta ter penso manda ...      toxic\n",
              "1       cara adultera dados desmascarados ainda quer ...      toxic\n",
              "2       cara simplesmente maior vencedor história fut...      toxic\n",
              "3                 to chorando vei vsf staneio izone nada      toxic\n",
              "4       eleitor bolsonaro tão ignorante q percebeu q ...      toxic\n",
              "...                                                  ...        ...\n",
              "20995                                faz favor vai carai  non-toxic\n",
              "20996   queria conhecer alguém conhece hetero taubaté...      toxic\n",
              "20997   vcs militam hora errada cima memes ngm suport...  non-toxic\n",
              "20998   porra any tava c dor cabeca comer mpn nowunit...  non-toxic\n",
              "20999             saudades iasmin 2017 gótica demais pqp  non-toxic\n",
              "\n",
              "[21000 rows x 2 columns]"
            ],
            "text/html": [
              "\n",
              "  <div id=\"df-0fb86829-dcbb-411e-9629-0e952f5a2990\">\n",
              "    <div class=\"colab-df-container\">\n",
              "      <div>\n",
              "<style scoped>\n",
              "    .dataframe tbody tr th:only-of-type {\n",
              "        vertical-align: middle;\n",
              "    }\n",
              "\n",
              "    .dataframe tbody tr th {\n",
              "        vertical-align: top;\n",
              "    }\n",
              "\n",
              "    .dataframe thead th {\n",
              "        text-align: right;\n",
              "    }\n",
              "</style>\n",
              "<table border=\"1\" class=\"dataframe\">\n",
              "  <thead>\n",
              "    <tr style=\"text-align: right;\">\n",
              "      <th></th>\n",
              "      <th>text</th>\n",
              "      <th>label</th>\n",
              "    </tr>\n",
              "  </thead>\n",
              "  <tbody>\n",
              "    <tr>\n",
              "      <th>0</th>\n",
              "      <td>nivel amizade isis ter insta ter penso manda ...</td>\n",
              "      <td>toxic</td>\n",
              "    </tr>\n",
              "    <tr>\n",
              "      <th>1</th>\n",
              "      <td>cara adultera dados desmascarados ainda quer ...</td>\n",
              "      <td>toxic</td>\n",
              "    </tr>\n",
              "    <tr>\n",
              "      <th>2</th>\n",
              "      <td>cara simplesmente maior vencedor história fut...</td>\n",
              "      <td>toxic</td>\n",
              "    </tr>\n",
              "    <tr>\n",
              "      <th>3</th>\n",
              "      <td>to chorando vei vsf staneio izone nada</td>\n",
              "      <td>toxic</td>\n",
              "    </tr>\n",
              "    <tr>\n",
              "      <th>4</th>\n",
              "      <td>eleitor bolsonaro tão ignorante q percebeu q ...</td>\n",
              "      <td>toxic</td>\n",
              "    </tr>\n",
              "    <tr>\n",
              "      <th>...</th>\n",
              "      <td>...</td>\n",
              "      <td>...</td>\n",
              "    </tr>\n",
              "    <tr>\n",
              "      <th>20995</th>\n",
              "      <td>faz favor vai carai</td>\n",
              "      <td>non-toxic</td>\n",
              "    </tr>\n",
              "    <tr>\n",
              "      <th>20996</th>\n",
              "      <td>queria conhecer alguém conhece hetero taubaté...</td>\n",
              "      <td>toxic</td>\n",
              "    </tr>\n",
              "    <tr>\n",
              "      <th>20997</th>\n",
              "      <td>vcs militam hora errada cima memes ngm suport...</td>\n",
              "      <td>non-toxic</td>\n",
              "    </tr>\n",
              "    <tr>\n",
              "      <th>20998</th>\n",
              "      <td>porra any tava c dor cabeca comer mpn nowunit...</td>\n",
              "      <td>non-toxic</td>\n",
              "    </tr>\n",
              "    <tr>\n",
              "      <th>20999</th>\n",
              "      <td>saudades iasmin 2017 gótica demais pqp</td>\n",
              "      <td>non-toxic</td>\n",
              "    </tr>\n",
              "  </tbody>\n",
              "</table>\n",
              "<p>21000 rows × 2 columns</p>\n",
              "</div>\n",
              "      <button class=\"colab-df-convert\" onclick=\"convertToInteractive('df-0fb86829-dcbb-411e-9629-0e952f5a2990')\"\n",
              "              title=\"Convert this dataframe to an interactive table.\"\n",
              "              style=\"display:none;\">\n",
              "        \n",
              "  <svg xmlns=\"http://www.w3.org/2000/svg\" height=\"24px\"viewBox=\"0 0 24 24\"\n",
              "       width=\"24px\">\n",
              "    <path d=\"M0 0h24v24H0V0z\" fill=\"none\"/>\n",
              "    <path d=\"M18.56 5.44l.94 2.06.94-2.06 2.06-.94-2.06-.94-.94-2.06-.94 2.06-2.06.94zm-11 1L8.5 8.5l.94-2.06 2.06-.94-2.06-.94L8.5 2.5l-.94 2.06-2.06.94zm10 10l.94 2.06.94-2.06 2.06-.94-2.06-.94-.94-2.06-.94 2.06-2.06.94z\"/><path d=\"M17.41 7.96l-1.37-1.37c-.4-.4-.92-.59-1.43-.59-.52 0-1.04.2-1.43.59L10.3 9.45l-7.72 7.72c-.78.78-.78 2.05 0 2.83L4 21.41c.39.39.9.59 1.41.59.51 0 1.02-.2 1.41-.59l7.78-7.78 2.81-2.81c.8-.78.8-2.07 0-2.86zM5.41 20L4 18.59l7.72-7.72 1.47 1.35L5.41 20z\"/>\n",
              "  </svg>\n",
              "      </button>\n",
              "      \n",
              "  <style>\n",
              "    .colab-df-container {\n",
              "      display:flex;\n",
              "      flex-wrap:wrap;\n",
              "      gap: 12px;\n",
              "    }\n",
              "\n",
              "    .colab-df-convert {\n",
              "      background-color: #E8F0FE;\n",
              "      border: none;\n",
              "      border-radius: 50%;\n",
              "      cursor: pointer;\n",
              "      display: none;\n",
              "      fill: #1967D2;\n",
              "      height: 32px;\n",
              "      padding: 0 0 0 0;\n",
              "      width: 32px;\n",
              "    }\n",
              "\n",
              "    .colab-df-convert:hover {\n",
              "      background-color: #E2EBFA;\n",
              "      box-shadow: 0px 1px 2px rgba(60, 64, 67, 0.3), 0px 1px 3px 1px rgba(60, 64, 67, 0.15);\n",
              "      fill: #174EA6;\n",
              "    }\n",
              "\n",
              "    [theme=dark] .colab-df-convert {\n",
              "      background-color: #3B4455;\n",
              "      fill: #D2E3FC;\n",
              "    }\n",
              "\n",
              "    [theme=dark] .colab-df-convert:hover {\n",
              "      background-color: #434B5C;\n",
              "      box-shadow: 0px 1px 3px 1px rgba(0, 0, 0, 0.15);\n",
              "      filter: drop-shadow(0px 1px 2px rgba(0, 0, 0, 0.3));\n",
              "      fill: #FFFFFF;\n",
              "    }\n",
              "  </style>\n",
              "\n",
              "      <script>\n",
              "        const buttonEl =\n",
              "          document.querySelector('#df-0fb86829-dcbb-411e-9629-0e952f5a2990 button.colab-df-convert');\n",
              "        buttonEl.style.display =\n",
              "          google.colab.kernel.accessAllowed ? 'block' : 'none';\n",
              "\n",
              "        async function convertToInteractive(key) {\n",
              "          const element = document.querySelector('#df-0fb86829-dcbb-411e-9629-0e952f5a2990');\n",
              "          const dataTable =\n",
              "            await google.colab.kernel.invokeFunction('convertToInteractive',\n",
              "                                                     [key], {});\n",
              "          if (!dataTable) return;\n",
              "\n",
              "          const docLinkHtml = 'Like what you see? Visit the ' +\n",
              "            '<a target=\"_blank\" href=https://colab.research.google.com/notebooks/data_table.ipynb>data table notebook</a>'\n",
              "            + ' to learn more about interactive tables.';\n",
              "          element.innerHTML = '';\n",
              "          dataTable['output_type'] = 'display_data';\n",
              "          await google.colab.output.renderOutput(dataTable, element);\n",
              "          const docLink = document.createElement('div');\n",
              "          docLink.innerHTML = docLinkHtml;\n",
              "          element.appendChild(docLink);\n",
              "        }\n",
              "      </script>\n",
              "    </div>\n",
              "  </div>\n",
              "  "
            ]
          },
          "metadata": {},
          "execution_count": 10
        }
      ]
    },
    {
      "cell_type": "code",
      "source": [
        "df['label'].value_counts()"
      ],
      "metadata": {
        "id": "Gqi9XQBBqLRZ",
        "colab": {
          "base_uri": "https://localhost:8080/"
        },
        "outputId": "912ad244-73b8-47ca-8cd0-5ba6c24b179d"
      },
      "execution_count": 11,
      "outputs": [
        {
          "output_type": "execute_result",
          "data": {
            "text/plain": [
              "non-toxic    11745\n",
              "toxic         9255\n",
              "Name: label, dtype: int64"
            ]
          },
          "metadata": {},
          "execution_count": 11
        }
      ]
    },
    {
      "cell_type": "code",
      "source": [
        "X = np.array(df['text'])\n",
        "X"
      ],
      "metadata": {
        "id": "GzidDZ-f53q6",
        "colab": {
          "base_uri": "https://localhost:8080/"
        },
        "outputId": "be737eaa-ab73-4475-8fec-da285d2b848d"
      },
      "execution_count": 12,
      "outputs": [
        {
          "output_type": "execute_result",
          "data": {
            "text/plain": [
              "array([' nivel amizade isis ter insta ter penso manda mensagem falano otario ta falando dnv insta',\n",
              "       ' cara adultera dados desmascarados ainda quer ficar governo',\n",
              "       ' cara simplesmente maior vencedor história futebol tá 36 anos gás demais gordo joelho fodido',\n",
              "       ...,\n",
              "       ' vcs militam hora errada cima memes ngm suporta jovem militância errada porra militar cima meme foda',\n",
              "       ' porra any tava c dor cabeca comer mpn nowunited uniters',\n",
              "       ' saudades iasmin 2017 gótica demais pqp'], dtype=object)"
            ]
          },
          "metadata": {},
          "execution_count": 12
        }
      ]
    },
    {
      "cell_type": "code",
      "source": [
        "y = np.array(df['label'])\n",
        "y"
      ],
      "metadata": {
        "id": "fBfR1gqF5-a1",
        "colab": {
          "base_uri": "https://localhost:8080/"
        },
        "outputId": "d5071104-9a8f-4291-8e24-98f9d90119e8"
      },
      "execution_count": 13,
      "outputs": [
        {
          "output_type": "execute_result",
          "data": {
            "text/plain": [
              "array(['toxic', 'toxic', 'toxic', ..., 'non-toxic', 'non-toxic',\n",
              "       'non-toxic'], dtype=object)"
            ]
          },
          "metadata": {},
          "execution_count": 13
        }
      ]
    },
    {
      "cell_type": "code",
      "source": [
        "X_train, X_test, y_train, y_test = train_test_split(X,y,\n",
        "                                                    train_size=0.8, \n",
        "                                                    random_state=42)\n",
        "  "
      ],
      "metadata": {
        "id": "nIBUkCtoskqB"
      },
      "execution_count": 14,
      "outputs": []
    },
    {
      "cell_type": "code",
      "source": [
        "X_train, X_valid, y_train, y_valid = train_test_split(X_train,y_train,\n",
        "                                                    test_size=0.2, \n",
        "                                                    random_state=42)"
      ],
      "metadata": {
        "id": "zCJbtBnLs2Zx"
      },
      "execution_count": 15,
      "outputs": []
    },
    {
      "cell_type": "markdown",
      "source": [
        "## Word2Vec + Embedding Layer"
      ],
      "metadata": {
        "id": "Q8VPzfDEFjcV"
      }
    },
    {
      "cell_type": "code",
      "source": [
        "tokenizer = Tokenizer()\n",
        "tokenizer.fit_on_texts(df['text'].to_numpy())\n",
        "word2index = tokenizer.word_index # word_index assigns a unique index to each character present in the text.\n",
        "vocab_size = len(word2index)"
      ],
      "metadata": {
        "id": "yOhO5rnG2NxE"
      },
      "execution_count": 16,
      "outputs": []
    },
    {
      "cell_type": "code",
      "source": [
        "lista = []\n",
        "for i in df['text']:\n",
        "  lista.append(i.split())\n",
        "  \n",
        "model = Word2Vec(lista, window = 3, min_count = 1, workers = 4, sg = 1)  "
      ],
      "metadata": {
        "id": "DRfseYntFydb"
      },
      "execution_count": 17,
      "outputs": []
    },
    {
      "cell_type": "code",
      "source": [
        "word_vectors = model.wv"
      ],
      "metadata": {
        "id": "327fXzxyFw7r"
      },
      "execution_count": 18,
      "outputs": []
    },
    {
      "cell_type": "code",
      "source": [
        "# Converter dados para uma matrix de shape(27654, 100)\n",
        "embedding_dim = 100\n",
        "vocabulary_size = len(word2index) + 1\n",
        "\n",
        "embedding_matrix = np.zeros((vocabulary_size, embedding_dim))\n",
        "for word, i in word2index.items():\n",
        "    if i >= vocab_size:\n",
        "        continue\n",
        "\n",
        "    try:\n",
        "        embedding_vector = word_vectors[word]\n",
        "        embedding_matrix[i] = embedding_vector\n",
        "    except KeyError:\n",
        "        embedding_matrix[i] = np.random.normal(0,1,embedding_dim)"
      ],
      "metadata": {
        "id": "eLDZM7htF0ym"
      },
      "execution_count": 19,
      "outputs": []
    },
    {
      "cell_type": "code",
      "source": [
        "max_length = 50"
      ],
      "metadata": {
        "id": "xFctoKwEF4Wn"
      },
      "execution_count": 20,
      "outputs": []
    },
    {
      "cell_type": "code",
      "source": [
        "# Criar a embedding layer \n",
        "embedding_layer = Embedding(vocabulary_size,\n",
        "                            embedding_dim,\n",
        "                            embeddings_initializer=keras.initializers.Constant(embedding_matrix),\n",
        "                            input_length=max_length,\n",
        "                            trainable=False)"
      ],
      "metadata": {
        "id": "EsUR0tk7F4QZ"
      },
      "execution_count": 21,
      "outputs": []
    },
    {
      "cell_type": "markdown",
      "source": [
        "## Numecarilização"
      ],
      "metadata": {
        "id": "vb1KNt_hF7_9"
      }
    },
    {
      "cell_type": "code",
      "source": [
        "y_train = pd.Categorical(y_train)\n",
        "y_train_int = y_train.codes\n",
        "\n",
        "y_test = pd.Categorical(y_test)\n",
        "y_test_int = y_test.codes\n",
        "\n",
        "y_valid = pd.Categorical(y_valid)\n",
        "y_valid_int = y_valid.codes\n",
        "\n",
        "y_train = to_categorical(y_train_int)\n",
        "y_test = to_categorical(y_test_int)\n",
        "y_valid = to_categorical(y_valid_int)\n"
      ],
      "metadata": {
        "id": "YtQBhi9FF7ar"
      },
      "execution_count": 22,
      "outputs": []
    },
    {
      "cell_type": "code",
      "source": [
        "#y_train, y_test, y_valid = loggits(y_train, y_test, y_valid)\n",
        "\n",
        "train_sequences = tokenizer.texts_to_sequences(X_train)\n",
        "test_sequences = tokenizer.texts_to_sequences(X_test)\n",
        "valid_sequences = tokenizer.texts_to_sequences(X_valid)\n"
      ],
      "metadata": {
        "id": "beEP6WtSHggk"
      },
      "execution_count": 23,
      "outputs": []
    },
    {
      "cell_type": "code",
      "source": [
        "trunc_type = 'post'\n",
        "padding_type = 'post'\n",
        "  \n",
        "train_padded = pad_sequences(train_sequences, maxlen=max_length, padding=padding_type, truncating=trunc_type)\n",
        "test_padded = pad_sequences(test_sequences, maxlen=max_length, padding=padding_type, truncating=trunc_type)\n",
        "valid_padded = pad_sequences(valid_sequences, maxlen=max_length, padding=padding_type, truncating=trunc_type)"
      ],
      "metadata": {
        "id": "tTXv8RtXFVHt"
      },
      "execution_count": 24,
      "outputs": []
    },
    {
      "cell_type": "markdown",
      "source": [
        "## CNN"
      ],
      "metadata": {
        "id": "CMHBM4IUD6O9"
      }
    },
    {
      "cell_type": "code",
      "source": [
        "model = Sequential()\n",
        "\n",
        "model.add(embedding_layer) \n",
        "model.add(Dropout(0.2))\n",
        "model.add(Conv1D(filters=128, kernel_size=2, activation='relu', strides=1))\n",
        "model.add(MaxPooling1D())\n",
        "model.add(Conv1D(filters=128, kernel_size=3, activation='relu', strides=1))\n",
        "model.add(MaxPooling1D())\n",
        "model.add(Conv1D(filters=128, kernel_size=4, activation='relu', strides=1))\n",
        "model.add(MaxPooling1D())\n",
        "model.add(Flatten())\n",
        "model.add(Dropout(0.5))\n",
        "model.add(Dense(2, activation='sigmoid'))\n",
        "model.summary()"
      ],
      "metadata": {
        "id": "H4pAes1EXFq2",
        "colab": {
          "base_uri": "https://localhost:8080/"
        },
        "outputId": "dc31ce2d-5c82-4f8c-ce2a-16479705f630"
      },
      "execution_count": 25,
      "outputs": [
        {
          "output_type": "stream",
          "name": "stdout",
          "text": [
            "Model: \"sequential\"\n",
            "_________________________________________________________________\n",
            " Layer (type)                Output Shape              Param #   \n",
            "=================================================================\n",
            " embedding (Embedding)       (None, 50, 100)           2765400   \n",
            "                                                                 \n",
            " dropout (Dropout)           (None, 50, 100)           0         \n",
            "                                                                 \n",
            " conv1d (Conv1D)             (None, 49, 128)           25728     \n",
            "                                                                 \n",
            " max_pooling1d (MaxPooling1D  (None, 24, 128)          0         \n",
            " )                                                               \n",
            "                                                                 \n",
            " conv1d_1 (Conv1D)           (None, 22, 128)           49280     \n",
            "                                                                 \n",
            " max_pooling1d_1 (MaxPooling  (None, 11, 128)          0         \n",
            " 1D)                                                             \n",
            "                                                                 \n",
            " conv1d_2 (Conv1D)           (None, 8, 128)            65664     \n",
            "                                                                 \n",
            " max_pooling1d_2 (MaxPooling  (None, 4, 128)           0         \n",
            " 1D)                                                             \n",
            "                                                                 \n",
            " flatten (Flatten)           (None, 512)               0         \n",
            "                                                                 \n",
            " dropout_1 (Dropout)         (None, 512)               0         \n",
            "                                                                 \n",
            " dense (Dense)               (None, 2)                 1026      \n",
            "                                                                 \n",
            "=================================================================\n",
            "Total params: 2,907,098\n",
            "Trainable params: 141,698\n",
            "Non-trainable params: 2,765,400\n",
            "_________________________________________________________________\n"
          ]
        }
      ]
    },
    {
      "cell_type": "code",
      "source": [
        "sgd = SGD(learning_rate=0.01)\n",
        "model.compile(loss=\"binary_crossentropy\",optimizer=sgd,metrics=['accuracy'])\n",
        "history = model.fit(train_padded,y_train, validation_data=(valid_padded,y_valid), batch_size=64,epochs=100)"
      ],
      "metadata": {
        "id": "oSMteu7uLW--",
        "colab": {
          "base_uri": "https://localhost:8080/"
        },
        "outputId": "066e7e9d-106b-4d9c-83a3-cd7dab31c93a"
      },
      "execution_count": 26,
      "outputs": [
        {
          "output_type": "stream",
          "name": "stdout",
          "text": [
            "Epoch 1/100\n",
            "210/210 [==============================] - 14s 6ms/step - loss: 0.6905 - accuracy: 0.5565 - val_loss: 0.6877 - val_accuracy: 0.5598\n",
            "Epoch 2/100\n",
            "210/210 [==============================] - 1s 4ms/step - loss: 0.6883 - accuracy: 0.5574 - val_loss: 0.6865 - val_accuracy: 0.5598\n",
            "Epoch 3/100\n",
            "210/210 [==============================] - 1s 4ms/step - loss: 0.6873 - accuracy: 0.5577 - val_loss: 0.6860 - val_accuracy: 0.5598\n",
            "Epoch 4/100\n",
            "210/210 [==============================] - 1s 4ms/step - loss: 0.6872 - accuracy: 0.5577 - val_loss: 0.6855 - val_accuracy: 0.5598\n",
            "Epoch 5/100\n",
            "210/210 [==============================] - 1s 4ms/step - loss: 0.6863 - accuracy: 0.5579 - val_loss: 0.6851 - val_accuracy: 0.5598\n",
            "Epoch 6/100\n",
            "210/210 [==============================] - 1s 4ms/step - loss: 0.6862 - accuracy: 0.5575 - val_loss: 0.6847 - val_accuracy: 0.5598\n",
            "Epoch 7/100\n",
            "210/210 [==============================] - 1s 4ms/step - loss: 0.6855 - accuracy: 0.5574 - val_loss: 0.6843 - val_accuracy: 0.5598\n",
            "Epoch 8/100\n",
            "210/210 [==============================] - 1s 4ms/step - loss: 0.6852 - accuracy: 0.5581 - val_loss: 0.6839 - val_accuracy: 0.5598\n",
            "Epoch 9/100\n",
            "210/210 [==============================] - 1s 4ms/step - loss: 0.6845 - accuracy: 0.5587 - val_loss: 0.6834 - val_accuracy: 0.5598\n",
            "Epoch 10/100\n",
            "210/210 [==============================] - 1s 4ms/step - loss: 0.6845 - accuracy: 0.5584 - val_loss: 0.6830 - val_accuracy: 0.5598\n",
            "Epoch 11/100\n",
            "210/210 [==============================] - 1s 4ms/step - loss: 0.6837 - accuracy: 0.5602 - val_loss: 0.6824 - val_accuracy: 0.5598\n",
            "Epoch 12/100\n",
            "210/210 [==============================] - 1s 4ms/step - loss: 0.6832 - accuracy: 0.5606 - val_loss: 0.6819 - val_accuracy: 0.5604\n",
            "Epoch 13/100\n",
            "210/210 [==============================] - 1s 4ms/step - loss: 0.6827 - accuracy: 0.5632 - val_loss: 0.6812 - val_accuracy: 0.5613\n",
            "Epoch 14/100\n",
            "210/210 [==============================] - 1s 4ms/step - loss: 0.6826 - accuracy: 0.5623 - val_loss: 0.6805 - val_accuracy: 0.5631\n",
            "Epoch 15/100\n",
            "210/210 [==============================] - 1s 4ms/step - loss: 0.6819 - accuracy: 0.5666 - val_loss: 0.6799 - val_accuracy: 0.5634\n",
            "Epoch 16/100\n",
            "210/210 [==============================] - 1s 4ms/step - loss: 0.6803 - accuracy: 0.5700 - val_loss: 0.6789 - val_accuracy: 0.5655\n",
            "Epoch 17/100\n",
            "210/210 [==============================] - 1s 4ms/step - loss: 0.6798 - accuracy: 0.5737 - val_loss: 0.6778 - val_accuracy: 0.5696\n",
            "Epoch 18/100\n",
            "210/210 [==============================] - 1s 4ms/step - loss: 0.6791 - accuracy: 0.5772 - val_loss: 0.6766 - val_accuracy: 0.5717\n",
            "Epoch 19/100\n",
            "210/210 [==============================] - 1s 4ms/step - loss: 0.6779 - accuracy: 0.5797 - val_loss: 0.6752 - val_accuracy: 0.5750\n",
            "Epoch 20/100\n",
            "210/210 [==============================] - 1s 4ms/step - loss: 0.6760 - accuracy: 0.5838 - val_loss: 0.6736 - val_accuracy: 0.5830\n",
            "Epoch 21/100\n",
            "210/210 [==============================] - 1s 4ms/step - loss: 0.6749 - accuracy: 0.5901 - val_loss: 0.6714 - val_accuracy: 0.5935\n",
            "Epoch 22/100\n",
            "210/210 [==============================] - 1s 4ms/step - loss: 0.6730 - accuracy: 0.5980 - val_loss: 0.6695 - val_accuracy: 0.5973\n",
            "Epoch 23/100\n",
            "210/210 [==============================] - 1s 4ms/step - loss: 0.6708 - accuracy: 0.5996 - val_loss: 0.6670 - val_accuracy: 0.6062\n",
            "Epoch 24/100\n",
            "210/210 [==============================] - 1s 4ms/step - loss: 0.6682 - accuracy: 0.6060 - val_loss: 0.6642 - val_accuracy: 0.6092\n",
            "Epoch 25/100\n",
            "210/210 [==============================] - 1s 4ms/step - loss: 0.6656 - accuracy: 0.6098 - val_loss: 0.6611 - val_accuracy: 0.6110\n",
            "Epoch 26/100\n",
            "210/210 [==============================] - 1s 4ms/step - loss: 0.6639 - accuracy: 0.6088 - val_loss: 0.6584 - val_accuracy: 0.6158\n",
            "Epoch 27/100\n",
            "210/210 [==============================] - 1s 5ms/step - loss: 0.6603 - accuracy: 0.6150 - val_loss: 0.6544 - val_accuracy: 0.6220\n",
            "Epoch 28/100\n",
            "210/210 [==============================] - 1s 6ms/step - loss: 0.6573 - accuracy: 0.6196 - val_loss: 0.6537 - val_accuracy: 0.6185\n",
            "Epoch 29/100\n",
            "210/210 [==============================] - 1s 5ms/step - loss: 0.6548 - accuracy: 0.6211 - val_loss: 0.6488 - val_accuracy: 0.6265\n",
            "Epoch 30/100\n",
            "210/210 [==============================] - 1s 4ms/step - loss: 0.6523 - accuracy: 0.6246 - val_loss: 0.6444 - val_accuracy: 0.6301\n",
            "Epoch 31/100\n",
            "210/210 [==============================] - 1s 4ms/step - loss: 0.6479 - accuracy: 0.6268 - val_loss: 0.6463 - val_accuracy: 0.6268\n",
            "Epoch 32/100\n",
            "210/210 [==============================] - 1s 4ms/step - loss: 0.6472 - accuracy: 0.6306 - val_loss: 0.6432 - val_accuracy: 0.6277\n",
            "Epoch 33/100\n",
            "210/210 [==============================] - 1s 4ms/step - loss: 0.6458 - accuracy: 0.6293 - val_loss: 0.6419 - val_accuracy: 0.6295\n",
            "Epoch 34/100\n",
            "210/210 [==============================] - 1s 4ms/step - loss: 0.6432 - accuracy: 0.6317 - val_loss: 0.6402 - val_accuracy: 0.6298\n",
            "Epoch 35/100\n",
            "210/210 [==============================] - 1s 4ms/step - loss: 0.6438 - accuracy: 0.6338 - val_loss: 0.6409 - val_accuracy: 0.6298\n",
            "Epoch 36/100\n",
            "210/210 [==============================] - 1s 4ms/step - loss: 0.6403 - accuracy: 0.6346 - val_loss: 0.6349 - val_accuracy: 0.6402\n",
            "Epoch 37/100\n",
            "210/210 [==============================] - 1s 4ms/step - loss: 0.6411 - accuracy: 0.6367 - val_loss: 0.6408 - val_accuracy: 0.6313\n",
            "Epoch 38/100\n",
            "210/210 [==============================] - 1s 4ms/step - loss: 0.6402 - accuracy: 0.6345 - val_loss: 0.6367 - val_accuracy: 0.6342\n",
            "Epoch 39/100\n",
            "210/210 [==============================] - 1s 4ms/step - loss: 0.6398 - accuracy: 0.6380 - val_loss: 0.6343 - val_accuracy: 0.6408\n",
            "Epoch 40/100\n",
            "210/210 [==============================] - 1s 4ms/step - loss: 0.6379 - accuracy: 0.6390 - val_loss: 0.6333 - val_accuracy: 0.6411\n",
            "Epoch 41/100\n",
            "210/210 [==============================] - 1s 4ms/step - loss: 0.6370 - accuracy: 0.6399 - val_loss: 0.6319 - val_accuracy: 0.6443\n",
            "Epoch 42/100\n",
            "210/210 [==============================] - 1s 4ms/step - loss: 0.6364 - accuracy: 0.6405 - val_loss: 0.6352 - val_accuracy: 0.6369\n",
            "Epoch 43/100\n",
            "210/210 [==============================] - 1s 4ms/step - loss: 0.6359 - accuracy: 0.6420 - val_loss: 0.6299 - val_accuracy: 0.6443\n",
            "Epoch 44/100\n",
            "210/210 [==============================] - 1s 4ms/step - loss: 0.6359 - accuracy: 0.6394 - val_loss: 0.6317 - val_accuracy: 0.6402\n",
            "Epoch 45/100\n",
            "210/210 [==============================] - 1s 4ms/step - loss: 0.6336 - accuracy: 0.6430 - val_loss: 0.6302 - val_accuracy: 0.6432\n",
            "Epoch 46/100\n",
            "210/210 [==============================] - 1s 4ms/step - loss: 0.6345 - accuracy: 0.6458 - val_loss: 0.6279 - val_accuracy: 0.6455\n",
            "Epoch 47/100\n",
            "210/210 [==============================] - 1s 4ms/step - loss: 0.6335 - accuracy: 0.6431 - val_loss: 0.6292 - val_accuracy: 0.6449\n",
            "Epoch 48/100\n",
            "210/210 [==============================] - 1s 4ms/step - loss: 0.6345 - accuracy: 0.6391 - val_loss: 0.6274 - val_accuracy: 0.6470\n",
            "Epoch 49/100\n",
            "210/210 [==============================] - 1s 4ms/step - loss: 0.6328 - accuracy: 0.6424 - val_loss: 0.6304 - val_accuracy: 0.6405\n",
            "Epoch 50/100\n",
            "210/210 [==============================] - 1s 4ms/step - loss: 0.6329 - accuracy: 0.6449 - val_loss: 0.6266 - val_accuracy: 0.6467\n",
            "Epoch 51/100\n",
            "210/210 [==============================] - 1s 4ms/step - loss: 0.6339 - accuracy: 0.6423 - val_loss: 0.6269 - val_accuracy: 0.6461\n",
            "Epoch 52/100\n",
            "210/210 [==============================] - 1s 4ms/step - loss: 0.6320 - accuracy: 0.6426 - val_loss: 0.6257 - val_accuracy: 0.6464\n",
            "Epoch 53/100\n",
            "210/210 [==============================] - 1s 4ms/step - loss: 0.6326 - accuracy: 0.6455 - val_loss: 0.6274 - val_accuracy: 0.6429\n",
            "Epoch 54/100\n",
            "210/210 [==============================] - 1s 4ms/step - loss: 0.6315 - accuracy: 0.6441 - val_loss: 0.6267 - val_accuracy: 0.6443\n",
            "Epoch 55/100\n",
            "210/210 [==============================] - 1s 4ms/step - loss: 0.6303 - accuracy: 0.6472 - val_loss: 0.6246 - val_accuracy: 0.6491\n",
            "Epoch 56/100\n",
            "210/210 [==============================] - 1s 4ms/step - loss: 0.6286 - accuracy: 0.6429 - val_loss: 0.6247 - val_accuracy: 0.6461\n",
            "Epoch 57/100\n",
            "210/210 [==============================] - 1s 4ms/step - loss: 0.6296 - accuracy: 0.6448 - val_loss: 0.6273 - val_accuracy: 0.6429\n",
            "Epoch 58/100\n",
            "210/210 [==============================] - 1s 4ms/step - loss: 0.6299 - accuracy: 0.6497 - val_loss: 0.6268 - val_accuracy: 0.6438\n",
            "Epoch 59/100\n",
            "210/210 [==============================] - 1s 4ms/step - loss: 0.6284 - accuracy: 0.6500 - val_loss: 0.6248 - val_accuracy: 0.6464\n",
            "Epoch 60/100\n",
            "210/210 [==============================] - 1s 4ms/step - loss: 0.6264 - accuracy: 0.6521 - val_loss: 0.6230 - val_accuracy: 0.6557\n",
            "Epoch 61/100\n",
            "210/210 [==============================] - 1s 4ms/step - loss: 0.6270 - accuracy: 0.6484 - val_loss: 0.6228 - val_accuracy: 0.6506\n",
            "Epoch 62/100\n",
            "210/210 [==============================] - 1s 6ms/step - loss: 0.6273 - accuracy: 0.6490 - val_loss: 0.6234 - val_accuracy: 0.6464\n",
            "Epoch 63/100\n",
            "210/210 [==============================] - 2s 7ms/step - loss: 0.6276 - accuracy: 0.6481 - val_loss: 0.6233 - val_accuracy: 0.6536\n",
            "Epoch 64/100\n",
            "210/210 [==============================] - 1s 7ms/step - loss: 0.6273 - accuracy: 0.6500 - val_loss: 0.6229 - val_accuracy: 0.6494\n",
            "Epoch 65/100\n",
            "210/210 [==============================] - 1s 4ms/step - loss: 0.6268 - accuracy: 0.6475 - val_loss: 0.6263 - val_accuracy: 0.6467\n",
            "Epoch 66/100\n",
            "210/210 [==============================] - 1s 4ms/step - loss: 0.6276 - accuracy: 0.6472 - val_loss: 0.6212 - val_accuracy: 0.6506\n",
            "Epoch 67/100\n",
            "210/210 [==============================] - 1s 4ms/step - loss: 0.6273 - accuracy: 0.6487 - val_loss: 0.6214 - val_accuracy: 0.6509\n",
            "Epoch 68/100\n",
            "210/210 [==============================] - 1s 4ms/step - loss: 0.6250 - accuracy: 0.6514 - val_loss: 0.6248 - val_accuracy: 0.6485\n",
            "Epoch 69/100\n",
            "210/210 [==============================] - 1s 4ms/step - loss: 0.6250 - accuracy: 0.6519 - val_loss: 0.6197 - val_accuracy: 0.6565\n",
            "Epoch 70/100\n",
            "210/210 [==============================] - 1s 4ms/step - loss: 0.6261 - accuracy: 0.6488 - val_loss: 0.6201 - val_accuracy: 0.6539\n",
            "Epoch 71/100\n",
            "210/210 [==============================] - 1s 4ms/step - loss: 0.6255 - accuracy: 0.6539 - val_loss: 0.6242 - val_accuracy: 0.6491\n",
            "Epoch 72/100\n",
            "210/210 [==============================] - 1s 4ms/step - loss: 0.6274 - accuracy: 0.6480 - val_loss: 0.6193 - val_accuracy: 0.6571\n",
            "Epoch 73/100\n",
            "210/210 [==============================] - 1s 4ms/step - loss: 0.6246 - accuracy: 0.6495 - val_loss: 0.6214 - val_accuracy: 0.6524\n",
            "Epoch 74/100\n",
            "210/210 [==============================] - 1s 4ms/step - loss: 0.6247 - accuracy: 0.6519 - val_loss: 0.6187 - val_accuracy: 0.6571\n",
            "Epoch 75/100\n",
            "210/210 [==============================] - 1s 6ms/step - loss: 0.6268 - accuracy: 0.6505 - val_loss: 0.6185 - val_accuracy: 0.6577\n",
            "Epoch 76/100\n",
            "210/210 [==============================] - 1s 5ms/step - loss: 0.6231 - accuracy: 0.6496 - val_loss: 0.6191 - val_accuracy: 0.6568\n",
            "Epoch 77/100\n",
            "210/210 [==============================] - 1s 4ms/step - loss: 0.6246 - accuracy: 0.6501 - val_loss: 0.6180 - val_accuracy: 0.6574\n",
            "Epoch 78/100\n",
            "210/210 [==============================] - 1s 4ms/step - loss: 0.6239 - accuracy: 0.6528 - val_loss: 0.6204 - val_accuracy: 0.6527\n",
            "Epoch 79/100\n",
            "210/210 [==============================] - 1s 4ms/step - loss: 0.6222 - accuracy: 0.6548 - val_loss: 0.6177 - val_accuracy: 0.6601\n",
            "Epoch 80/100\n",
            "210/210 [==============================] - 1s 4ms/step - loss: 0.6230 - accuracy: 0.6536 - val_loss: 0.6190 - val_accuracy: 0.6539\n",
            "Epoch 81/100\n",
            "210/210 [==============================] - 1s 4ms/step - loss: 0.6227 - accuracy: 0.6519 - val_loss: 0.6175 - val_accuracy: 0.6592\n",
            "Epoch 82/100\n",
            "210/210 [==============================] - 1s 4ms/step - loss: 0.6240 - accuracy: 0.6519 - val_loss: 0.6173 - val_accuracy: 0.6589\n",
            "Epoch 83/100\n",
            "210/210 [==============================] - 1s 4ms/step - loss: 0.6226 - accuracy: 0.6498 - val_loss: 0.6167 - val_accuracy: 0.6580\n",
            "Epoch 84/100\n",
            "210/210 [==============================] - 1s 4ms/step - loss: 0.6231 - accuracy: 0.6516 - val_loss: 0.6173 - val_accuracy: 0.6560\n",
            "Epoch 85/100\n",
            "210/210 [==============================] - 1s 4ms/step - loss: 0.6218 - accuracy: 0.6557 - val_loss: 0.6179 - val_accuracy: 0.6557\n",
            "Epoch 86/100\n",
            "210/210 [==============================] - 1s 4ms/step - loss: 0.6224 - accuracy: 0.6525 - val_loss: 0.6170 - val_accuracy: 0.6571\n",
            "Epoch 87/100\n",
            "210/210 [==============================] - 1s 4ms/step - loss: 0.6218 - accuracy: 0.6538 - val_loss: 0.6160 - val_accuracy: 0.6595\n",
            "Epoch 88/100\n",
            "210/210 [==============================] - 1s 4ms/step - loss: 0.6216 - accuracy: 0.6540 - val_loss: 0.6156 - val_accuracy: 0.6625\n",
            "Epoch 89/100\n",
            "210/210 [==============================] - 1s 4ms/step - loss: 0.6216 - accuracy: 0.6543 - val_loss: 0.6161 - val_accuracy: 0.6604\n",
            "Epoch 90/100\n",
            "210/210 [==============================] - 1s 4ms/step - loss: 0.6213 - accuracy: 0.6552 - val_loss: 0.6193 - val_accuracy: 0.6509\n",
            "Epoch 91/100\n",
            "210/210 [==============================] - 1s 4ms/step - loss: 0.6212 - accuracy: 0.6546 - val_loss: 0.6176 - val_accuracy: 0.6562\n",
            "Epoch 92/100\n",
            "210/210 [==============================] - 1s 4ms/step - loss: 0.6211 - accuracy: 0.6538 - val_loss: 0.6167 - val_accuracy: 0.6551\n",
            "Epoch 93/100\n",
            "210/210 [==============================] - 1s 4ms/step - loss: 0.6187 - accuracy: 0.6626 - val_loss: 0.6156 - val_accuracy: 0.6562\n",
            "Epoch 94/100\n",
            "210/210 [==============================] - 1s 4ms/step - loss: 0.6202 - accuracy: 0.6555 - val_loss: 0.6167 - val_accuracy: 0.6539\n",
            "Epoch 95/100\n",
            "210/210 [==============================] - 1s 4ms/step - loss: 0.6201 - accuracy: 0.6539 - val_loss: 0.6144 - val_accuracy: 0.6622\n",
            "Epoch 96/100\n",
            "210/210 [==============================] - 1s 4ms/step - loss: 0.6206 - accuracy: 0.6574 - val_loss: 0.6157 - val_accuracy: 0.6565\n",
            "Epoch 97/100\n",
            "210/210 [==============================] - 1s 4ms/step - loss: 0.6208 - accuracy: 0.6542 - val_loss: 0.6151 - val_accuracy: 0.6580\n",
            "Epoch 98/100\n",
            "210/210 [==============================] - 1s 4ms/step - loss: 0.6198 - accuracy: 0.6565 - val_loss: 0.6143 - val_accuracy: 0.6646\n",
            "Epoch 99/100\n",
            "210/210 [==============================] - 1s 4ms/step - loss: 0.6192 - accuracy: 0.6530 - val_loss: 0.6163 - val_accuracy: 0.6568\n",
            "Epoch 100/100\n",
            "210/210 [==============================] - 1s 4ms/step - loss: 0.6220 - accuracy: 0.6541 - val_loss: 0.6139 - val_accuracy: 0.6637\n"
          ]
        }
      ]
    },
    {
      "cell_type": "code",
      "source": [
        "scores = model.evaluate(test_padded, y_test, verbose=0)\n",
        "print(f\"Accuracy: {(scores[1]*100)}\")"
      ],
      "metadata": {
        "id": "rD1ke6Y7oyuz",
        "colab": {
          "base_uri": "https://localhost:8080/"
        },
        "outputId": "fec94c7f-46ff-424c-82c1-b94c2a84c3e3"
      },
      "execution_count": 27,
      "outputs": [
        {
          "output_type": "stream",
          "name": "stdout",
          "text": [
            "Accuracy: 65.66666960716248\n"
          ]
        }
      ]
    },
    {
      "cell_type": "code",
      "source": [
        "y_prob = model.predict(test_padded)\n",
        "y_pred = np.argmax(y_prob,axis=1)\n",
        "print(classification_report(y_test_int, y_pred))"
      ],
      "metadata": {
        "id": "WPDkfX1ScAHx",
        "colab": {
          "base_uri": "https://localhost:8080/"
        },
        "outputId": "fcf63292-18f1-4d28-87a8-d731dc3c2166"
      },
      "execution_count": 28,
      "outputs": [
        {
          "output_type": "stream",
          "name": "stdout",
          "text": [
            "              precision    recall  f1-score   support\n",
            "\n",
            "           0       0.65      0.86      0.74      2370\n",
            "           1       0.69      0.39      0.50      1830\n",
            "\n",
            "    accuracy                           0.66      4200\n",
            "   macro avg       0.67      0.63      0.62      4200\n",
            "weighted avg       0.66      0.66      0.63      4200\n",
            "\n"
          ]
        }
      ]
    },
    {
      "cell_type": "code",
      "source": [
        "plt.plot(history.history['accuracy'])\n",
        "plt.plot(history.history['val_accuracy'])\n",
        "plt.title('Model Accuracy')\n",
        "plt.ylabel('accuracy')\n",
        "plt.xlabel('epoch')\n",
        "plt.legend(['training set','validation set'], loc='upper left')\n",
        "plt.show()"
      ],
      "metadata": {
        "id": "y4KbwuJVHchB",
        "colab": {
          "base_uri": "https://localhost:8080/",
          "height": 295
        },
        "outputId": "7a7703c1-84a6-4bde-975e-f1a89640428f"
      },
      "execution_count": 29,
      "outputs": [
        {
          "output_type": "display_data",
          "data": {
            "text/plain": [
              "<Figure size 432x288 with 1 Axes>"
            ],
            "image/png": "[encoded data removed]"
          },
          "metadata": {
            "needs_background": "light"
          }
        }
      ]
    },
    {
      "cell_type": "code",
      "source": [
        "plt.plot(history.history['loss'])\n",
        "plt.plot(history.history['val_loss'])\n",
        "plt.title('Model Loss')\n",
        "plt.ylabel('loss')\n",
        "plt.xlabel('epoch')\n",
        "plt.legend(['training set','validation set'], loc='upper left')\n",
        "plt.show()"
      ],
      "metadata": {
        "id": "ipYFIBAlT6NO",
        "colab": {
          "base_uri": "https://localhost:8080/",
          "height": 295
        },
        "outputId": "88222bdf-f435-4783-b9e6-a1cfe129d1b0"
      },
      "execution_count": 30,
      "outputs": [
        {
          "output_type": "display_data",
          "data": {
            "text/plain": [
              "<Figure size 432x288 with 1 Axes>"
            ],
            "image/png": "[encoded data removed]"
          },
          "metadata": {
            "needs_background": "light"
          }
        }
      ]
    },
    {
      "cell_type": "code",
      "source": [
        "tf.keras.utils.plot_model(model,'model_image.png', show_shapes = True)"
      ],
      "metadata": {
        "id": "M-upzOZhRPAF",
        "colab": {
          "base_uri": "https://localhost:8080/",
          "height": 1000
        },
        "outputId": "26bdcc2f-44d8-4209-d2a4-de1f6ac7f320"
      },
      "execution_count": 31,
      "outputs": [
        {
          "output_type": "execute_result",
          "data": {
            "image/png": "[encoded data removed]",
            "text/plain": [
              "<IPython.core.display.Image object>"
            ]
          },
          "metadata": {},
          "execution_count": 31
        }
      ]
    }
  ]
}