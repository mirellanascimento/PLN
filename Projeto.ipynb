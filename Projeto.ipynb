{
  "nbformat": 4,
  "nbformat_minor": 0,
  "metadata": {
    "colab": {
      "provenance": [],
      "collapsed_sections": [],
      "authorship_tag": "ABX9TyNF6/bcfG4b2BYP9bQICslD",
      "include_colab_link": true
    },
    "kernelspec": {
      "name": "python3",
      "display_name": "Python 3"
    },
    "language_info": {
      "name": "python"
    },
    "accelerator": "GPU"
  },
  "cells": [
    {
      "cell_type": "markdown",
      "metadata": {
        "id": "view-in-github",
        "colab_type": "text"
      },
      "source": [
        "<a href=\"https://colab.research.google.com/github/mirellanascimento/PLN/blob/main/Projeto.ipynb\" target=\"_parent\"><img src=\"https://colab.research.google.com/assets/colab-badge.svg\" alt=\"Open In Colab\"/></a>"
      ]
    },
    {
      "cell_type": "markdown",
      "source": [
        "Dectection of Hate Speech Using a Brazilian Twitter Dataset\n",
        "\n"
      ],
      "metadata": {
        "id": "P3bEU6iEnKsh"
      }
    },
    {
      "cell_type": "code",
      "source": [
        "#!pip install gensim\n",
        "#!pip install python-Levenshtein"
      ],
      "metadata": {
        "id": "skepGjXa-Ork"
      },
      "execution_count": 1,
      "outputs": []
    },
    {
      "cell_type": "code",
      "source": [
        "import pandas as pd\n",
        "import numpy as np\n",
        "import re\n",
        "from gensim.models import Word2Vec\n",
        "from keras.utils.np_utils import to_categorical\n",
        "from keras.models import Sequential, Model\n",
        "from keras.layers import Dense,Conv1D,Embedding,GlobalMaxPooling1D,MaxPooling1D,MaxPooling2D,Activation,Flatten, Dropout, concatenate, Conv2D, Reshape, Input\n",
        "from keras import regularizers\n",
        "from tensorflow.keras.preprocessing.text import Tokenizer\n",
        "from tensorflow.keras.preprocessing.sequence import pad_sequences\n",
        "from keras.utils.np_utils import to_categorical\n",
        "from sklearn.metrics import classification_report\n",
        "from tensorflow.keras.optimizers import SGD\n",
        "from tensorflow import keras\n",
        "import matplotlib.pyplot as plt\n",
        "import tensorflow as tf\n",
        "from sklearn.model_selection import train_test_split\n",
        "\n",
        "# Remoção de stopwords\n",
        "import nltk\n",
        "from nltk.corpus import stopwords\n",
        "from nltk.tokenize import word_tokenize\n"
      ],
      "metadata": {
        "id": "3wmAo3Z_nKL2"
      },
      "execution_count": 2,
      "outputs": []
    },
    {
      "cell_type": "code",
      "source": [
        "nltk.download('stopwords')\n",
        "nltk.download('wordnet')\n",
        "nltk.download('omw-1.4')"
      ],
      "metadata": {
        "id": "SyDlbtW11DVb",
        "colab": {
          "base_uri": "https://localhost:8080/"
        },
        "outputId": "d2c1df37-9cbd-48c1-ad01-44443001b9a9"
      },
      "execution_count": 3,
      "outputs": [
        {
          "output_type": "stream",
          "name": "stderr",
          "text": [
            "[nltk_data] Downloading package stopwords to /root/nltk_data...\n",
            "[nltk_data]   Package stopwords is already up-to-date!\n",
            "[nltk_data] Downloading package wordnet to /root/nltk_data...\n",
            "[nltk_data]   Package wordnet is already up-to-date!\n",
            "[nltk_data] Downloading package omw-1.4 to /root/nltk_data...\n",
            "[nltk_data]   Package omw-1.4 is already up-to-date!\n"
          ]
        },
        {
          "output_type": "execute_result",
          "data": {
            "text/plain": [
              "True"
            ]
          },
          "metadata": {},
          "execution_count": 3
        }
      ]
    },
    {
      "cell_type": "code",
      "execution_count": 4,
      "metadata": {
        "id": "qG_WMPu-IDuz"
      },
      "outputs": [],
      "source": [
        "df = pd.read_csv('https://raw.githubusercontent.com/JAugusto97/ToLD-Br/main/ToLD-BR.csv')"
      ]
    },
    {
      "cell_type": "code",
      "source": [
        "df.head()"
      ],
      "metadata": {
        "id": "It1tdXipZo2g",
        "colab": {
          "base_uri": "https://localhost:8080/",
          "height": 206
        },
        "outputId": "f9e50912-9407-486f-b27d-95db73983e00"
      },
      "execution_count": 5,
      "outputs": [
        {
          "output_type": "execute_result",
          "data": {
            "text/plain": [
              "                                                text  homophobia  obscene  \\\n",
              "0  Meu nivel de amizade com isis é ela ter meu in...         0.0      0.0   \n",
              "1  rt @user @user o cara adultera dados, que fora...         0.0      0.0   \n",
              "2  @user @user @user o cara só é simplesmente o m...         0.0      2.0   \n",
              "3  eu to chorando vei vsf e eu nem staneio izone ...         0.0      1.0   \n",
              "4  Eleitor do Bolsonaro é tão ignorante q não per...         0.0      1.0   \n",
              "\n",
              "   insult  racism  misogyny  xenophobia  \n",
              "0     2.0     0.0       0.0         0.0  \n",
              "1     1.0     0.0       0.0         0.0  \n",
              "2     1.0     0.0       0.0         0.0  \n",
              "3     0.0     0.0       0.0         0.0  \n",
              "4     2.0     0.0       0.0         0.0  "
            ],
            "text/html": [
              "\n",
              "  <div id=\"df-ef79e689-6e19-4038-9fc6-ca1dec272803\">\n",
              "    <div class=\"colab-df-container\">\n",
              "      <div>\n",
              "<style scoped>\n",
              "    .dataframe tbody tr th:only-of-type {\n",
              "        vertical-align: middle;\n",
              "    }\n",
              "\n",
              "    .dataframe tbody tr th {\n",
              "        vertical-align: top;\n",
              "    }\n",
              "\n",
              "    .dataframe thead th {\n",
              "        text-align: right;\n",
              "    }\n",
              "</style>\n",
              "<table border=\"1\" class=\"dataframe\">\n",
              "  <thead>\n",
              "    <tr style=\"text-align: right;\">\n",
              "      <th></th>\n",
              "      <th>text</th>\n",
              "      <th>homophobia</th>\n",
              "      <th>obscene</th>\n",
              "      <th>insult</th>\n",
              "      <th>racism</th>\n",
              "      <th>misogyny</th>\n",
              "      <th>xenophobia</th>\n",
              "    </tr>\n",
              "  </thead>\n",
              "  <tbody>\n",
              "    <tr>\n",
              "      <th>0</th>\n",
              "      <td>Meu nivel de amizade com isis é ela ter meu in...</td>\n",
              "      <td>0.0</td>\n",
              "      <td>0.0</td>\n",
              "      <td>2.0</td>\n",
              "      <td>0.0</td>\n",
              "      <td>0.0</td>\n",
              "      <td>0.0</td>\n",
              "    </tr>\n",
              "    <tr>\n",
              "      <th>1</th>\n",
              "      <td>rt @user @user o cara adultera dados, que fora...</td>\n",
              "      <td>0.0</td>\n",
              "      <td>0.0</td>\n",
              "      <td>1.0</td>\n",
              "      <td>0.0</td>\n",
              "      <td>0.0</td>\n",
              "      <td>0.0</td>\n",
              "    </tr>\n",
              "    <tr>\n",
              "      <th>2</th>\n",
              "      <td>@user @user @user o cara só é simplesmente o m...</td>\n",
              "      <td>0.0</td>\n",
              "      <td>2.0</td>\n",
              "      <td>1.0</td>\n",
              "      <td>0.0</td>\n",
              "      <td>0.0</td>\n",
              "      <td>0.0</td>\n",
              "    </tr>\n",
              "    <tr>\n",
              "      <th>3</th>\n",
              "      <td>eu to chorando vei vsf e eu nem staneio izone ...</td>\n",
              "      <td>0.0</td>\n",
              "      <td>1.0</td>\n",
              "      <td>0.0</td>\n",
              "      <td>0.0</td>\n",
              "      <td>0.0</td>\n",
              "      <td>0.0</td>\n",
              "    </tr>\n",
              "    <tr>\n",
              "      <th>4</th>\n",
              "      <td>Eleitor do Bolsonaro é tão ignorante q não per...</td>\n",
              "      <td>0.0</td>\n",
              "      <td>1.0</td>\n",
              "      <td>2.0</td>\n",
              "      <td>0.0</td>\n",
              "      <td>0.0</td>\n",
              "      <td>0.0</td>\n",
              "    </tr>\n",
              "  </tbody>\n",
              "</table>\n",
              "</div>\n",
              "      <button class=\"colab-df-convert\" onclick=\"convertToInteractive('df-ef79e689-6e19-4038-9fc6-ca1dec272803')\"\n",
              "              title=\"Convert this dataframe to an interactive table.\"\n",
              "              style=\"display:none;\">\n",
              "        \n",
              "  <svg xmlns=\"http://www.w3.org/2000/svg\" height=\"24px\"viewBox=\"0 0 24 24\"\n",
              "       width=\"24px\">\n",
              "    <path d=\"M0 0h24v24H0V0z\" fill=\"none\"/>\n",
              "    <path d=\"M18.56 5.44l.94 2.06.94-2.06 2.06-.94-2.06-.94-.94-2.06-.94 2.06-2.06.94zm-11 1L8.5 8.5l.94-2.06 2.06-.94-2.06-.94L8.5 2.5l-.94 2.06-2.06.94zm10 10l.94 2.06.94-2.06 2.06-.94-2.06-.94-.94-2.06-.94 2.06-2.06.94z\"/><path d=\"M17.41 7.96l-1.37-1.37c-.4-.4-.92-.59-1.43-.59-.52 0-1.04.2-1.43.59L10.3 9.45l-7.72 7.72c-.78.78-.78 2.05 0 2.83L4 21.41c.39.39.9.59 1.41.59.51 0 1.02-.2 1.41-.59l7.78-7.78 2.81-2.81c.8-.78.8-2.07 0-2.86zM5.41 20L4 18.59l7.72-7.72 1.47 1.35L5.41 20z\"/>\n",
              "  </svg>\n",
              "      </button>\n",
              "      \n",
              "  <style>\n",
              "    .colab-df-container {\n",
              "      display:flex;\n",
              "      flex-wrap:wrap;\n",
              "      gap: 12px;\n",
              "    }\n",
              "\n",
              "    .colab-df-convert {\n",
              "      background-color: #E8F0FE;\n",
              "      border: none;\n",
              "      border-radius: 50%;\n",
              "      cursor: pointer;\n",
              "      display: none;\n",
              "      fill: #1967D2;\n",
              "      height: 32px;\n",
              "      padding: 0 0 0 0;\n",
              "      width: 32px;\n",
              "    }\n",
              "\n",
              "    .colab-df-convert:hover {\n",
              "      background-color: #E2EBFA;\n",
              "      box-shadow: 0px 1px 2px rgba(60, 64, 67, 0.3), 0px 1px 3px 1px rgba(60, 64, 67, 0.15);\n",
              "      fill: #174EA6;\n",
              "    }\n",
              "\n",
              "    [theme=dark] .colab-df-convert {\n",
              "      background-color: #3B4455;\n",
              "      fill: #D2E3FC;\n",
              "    }\n",
              "\n",
              "    [theme=dark] .colab-df-convert:hover {\n",
              "      background-color: #434B5C;\n",
              "      box-shadow: 0px 1px 3px 1px rgba(0, 0, 0, 0.15);\n",
              "      filter: drop-shadow(0px 1px 2px rgba(0, 0, 0, 0.3));\n",
              "      fill: #FFFFFF;\n",
              "    }\n",
              "  </style>\n",
              "\n",
              "      <script>\n",
              "        const buttonEl =\n",
              "          document.querySelector('#df-ef79e689-6e19-4038-9fc6-ca1dec272803 button.colab-df-convert');\n",
              "        buttonEl.style.display =\n",
              "          google.colab.kernel.accessAllowed ? 'block' : 'none';\n",
              "\n",
              "        async function convertToInteractive(key) {\n",
              "          const element = document.querySelector('#df-ef79e689-6e19-4038-9fc6-ca1dec272803');\n",
              "          const dataTable =\n",
              "            await google.colab.kernel.invokeFunction('convertToInteractive',\n",
              "                                                     [key], {});\n",
              "          if (!dataTable) return;\n",
              "\n",
              "          const docLinkHtml = 'Like what you see? Visit the ' +\n",
              "            '<a target=\"_blank\" href=https://colab.research.google.com/notebooks/data_table.ipynb>data table notebook</a>'\n",
              "            + ' to learn more about interactive tables.';\n",
              "          element.innerHTML = '';\n",
              "          dataTable['output_type'] = 'display_data';\n",
              "          await google.colab.output.renderOutput(dataTable, element);\n",
              "          const docLink = document.createElement('div');\n",
              "          docLink.innerHTML = docLinkHtml;\n",
              "          element.appendChild(docLink);\n",
              "        }\n",
              "      </script>\n",
              "    </div>\n",
              "  </div>\n",
              "  "
            ]
          },
          "metadata": {},
          "execution_count": 5
        }
      ]
    },
    {
      "cell_type": "markdown",
      "source": [
        "Como o problema a ser solucionado é de classificação de duas classes, ofensivo ou não, o dataset precisa ser transformado para representar esse tipo de problema"
      ],
      "metadata": {
        "id": "p-Bq7JgKfyCW"
      }
    },
    {
      "cell_type": "code",
      "source": [
        "def label(a, b, c, d, e, f):\n",
        "  if a == b == c == d == e == f == 0:\n",
        "    return 'non-toxic'\n",
        "  else: \n",
        "    return 'toxic'\n",
        "\n",
        "df['label'] = df.apply(lambda row : label(row['homophobia'], row['obscene'], row['insult'], \n",
        "                                          row['racism'], row['misogyny'], row['xenophobia']), axis = 1)"
      ],
      "metadata": {
        "id": "oyg321Z311nF"
      },
      "execution_count": 6,
      "outputs": []
    },
    {
      "cell_type": "code",
      "source": [
        "df"
      ],
      "metadata": {
        "id": "MZLjizug-xRs",
        "colab": {
          "base_uri": "https://localhost:8080/",
          "height": 423
        },
        "outputId": "cc9b0e03-8bcd-4a8a-d8a7-e0ea50e5a95a"
      },
      "execution_count": 7,
      "outputs": [
        {
          "output_type": "execute_result",
          "data": {
            "text/plain": [
              "                                                    text  homophobia  obscene  \\\n",
              "0      Meu nivel de amizade com isis é ela ter meu in...         0.0      0.0   \n",
              "1      rt @user @user o cara adultera dados, que fora...         0.0      0.0   \n",
              "2      @user @user @user o cara só é simplesmente o m...         0.0      2.0   \n",
              "3      eu to chorando vei vsf e eu nem staneio izone ...         0.0      1.0   \n",
              "4      Eleitor do Bolsonaro é tão ignorante q não per...         0.0      1.0   \n",
              "...                                                  ...         ...      ...   \n",
              "20995                          @user faz favor vai carai         0.0      0.0   \n",
              "20996  só queria conhecer alguém que não conhece o he...         1.0      0.0   \n",
              "20997  vcs militam na hora errada em cima de memes, p...         0.0      0.0   \n",
              "20998  @user porra any eu tava c dor de cabeca e fui ...         0.0      0.0   \n",
              "20999  saudades da iasmin de 2017 eu era gótica demai...         0.0      0.0   \n",
              "\n",
              "       insult  racism  misogyny  xenophobia      label  \n",
              "0         2.0     0.0       0.0         0.0      toxic  \n",
              "1         1.0     0.0       0.0         0.0      toxic  \n",
              "2         1.0     0.0       0.0         0.0      toxic  \n",
              "3         0.0     0.0       0.0         0.0      toxic  \n",
              "4         2.0     0.0       0.0         0.0      toxic  \n",
              "...       ...     ...       ...         ...        ...  \n",
              "20995     0.0     0.0       0.0         0.0  non-toxic  \n",
              "20996     0.0     0.0       0.0         0.0      toxic  \n",
              "20997     0.0     0.0       0.0         0.0  non-toxic  \n",
              "20998     0.0     0.0       0.0         0.0  non-toxic  \n",
              "20999     0.0     0.0       0.0         0.0  non-toxic  \n",
              "\n",
              "[21000 rows x 8 columns]"
            ],
            "text/html": [
              "\n",
              "  <div id=\"df-24d2c7f0-de1c-4094-ae5a-b30c4238f445\">\n",
              "    <div class=\"colab-df-container\">\n",
              "      <div>\n",
              "<style scoped>\n",
              "    .dataframe tbody tr th:only-of-type {\n",
              "        vertical-align: middle;\n",
              "    }\n",
              "\n",
              "    .dataframe tbody tr th {\n",
              "        vertical-align: top;\n",
              "    }\n",
              "\n",
              "    .dataframe thead th {\n",
              "        text-align: right;\n",
              "    }\n",
              "</style>\n",
              "<table border=\"1\" class=\"dataframe\">\n",
              "  <thead>\n",
              "    <tr style=\"text-align: right;\">\n",
              "      <th></th>\n",
              "      <th>text</th>\n",
              "      <th>homophobia</th>\n",
              "      <th>obscene</th>\n",
              "      <th>insult</th>\n",
              "      <th>racism</th>\n",
              "      <th>misogyny</th>\n",
              "      <th>xenophobia</th>\n",
              "      <th>label</th>\n",
              "    </tr>\n",
              "  </thead>\n",
              "  <tbody>\n",
              "    <tr>\n",
              "      <th>0</th>\n",
              "      <td>Meu nivel de amizade com isis é ela ter meu in...</td>\n",
              "      <td>0.0</td>\n",
              "      <td>0.0</td>\n",
              "      <td>2.0</td>\n",
              "      <td>0.0</td>\n",
              "      <td>0.0</td>\n",
              "      <td>0.0</td>\n",
              "      <td>toxic</td>\n",
              "    </tr>\n",
              "    <tr>\n",
              "      <th>1</th>\n",
              "      <td>rt @user @user o cara adultera dados, que fora...</td>\n",
              "      <td>0.0</td>\n",
              "      <td>0.0</td>\n",
              "      <td>1.0</td>\n",
              "      <td>0.0</td>\n",
              "      <td>0.0</td>\n",
              "      <td>0.0</td>\n",
              "      <td>toxic</td>\n",
              "    </tr>\n",
              "    <tr>\n",
              "      <th>2</th>\n",
              "      <td>@user @user @user o cara só é simplesmente o m...</td>\n",
              "      <td>0.0</td>\n",
              "      <td>2.0</td>\n",
              "      <td>1.0</td>\n",
              "      <td>0.0</td>\n",
              "      <td>0.0</td>\n",
              "      <td>0.0</td>\n",
              "      <td>toxic</td>\n",
              "    </tr>\n",
              "    <tr>\n",
              "      <th>3</th>\n",
              "      <td>eu to chorando vei vsf e eu nem staneio izone ...</td>\n",
              "      <td>0.0</td>\n",
              "      <td>1.0</td>\n",
              "      <td>0.0</td>\n",
              "      <td>0.0</td>\n",
              "      <td>0.0</td>\n",
              "      <td>0.0</td>\n",
              "      <td>toxic</td>\n",
              "    </tr>\n",
              "    <tr>\n",
              "      <th>4</th>\n",
              "      <td>Eleitor do Bolsonaro é tão ignorante q não per...</td>\n",
              "      <td>0.0</td>\n",
              "      <td>1.0</td>\n",
              "      <td>2.0</td>\n",
              "      <td>0.0</td>\n",
              "      <td>0.0</td>\n",
              "      <td>0.0</td>\n",
              "      <td>toxic</td>\n",
              "    </tr>\n",
              "    <tr>\n",
              "      <th>...</th>\n",
              "      <td>...</td>\n",
              "      <td>...</td>\n",
              "      <td>...</td>\n",
              "      <td>...</td>\n",
              "      <td>...</td>\n",
              "      <td>...</td>\n",
              "      <td>...</td>\n",
              "      <td>...</td>\n",
              "    </tr>\n",
              "    <tr>\n",
              "      <th>20995</th>\n",
              "      <td>@user faz favor vai carai</td>\n",
              "      <td>0.0</td>\n",
              "      <td>0.0</td>\n",
              "      <td>0.0</td>\n",
              "      <td>0.0</td>\n",
              "      <td>0.0</td>\n",
              "      <td>0.0</td>\n",
              "      <td>non-toxic</td>\n",
              "    </tr>\n",
              "    <tr>\n",
              "      <th>20996</th>\n",
              "      <td>só queria conhecer alguém que não conhece o he...</td>\n",
              "      <td>1.0</td>\n",
              "      <td>0.0</td>\n",
              "      <td>0.0</td>\n",
              "      <td>0.0</td>\n",
              "      <td>0.0</td>\n",
              "      <td>0.0</td>\n",
              "      <td>toxic</td>\n",
              "    </tr>\n",
              "    <tr>\n",
              "      <th>20997</th>\n",
              "      <td>vcs militam na hora errada em cima de memes, p...</td>\n",
              "      <td>0.0</td>\n",
              "      <td>0.0</td>\n",
              "      <td>0.0</td>\n",
              "      <td>0.0</td>\n",
              "      <td>0.0</td>\n",
              "      <td>0.0</td>\n",
              "      <td>non-toxic</td>\n",
              "    </tr>\n",
              "    <tr>\n",
              "      <th>20998</th>\n",
              "      <td>@user porra any eu tava c dor de cabeca e fui ...</td>\n",
              "      <td>0.0</td>\n",
              "      <td>0.0</td>\n",
              "      <td>0.0</td>\n",
              "      <td>0.0</td>\n",
              "      <td>0.0</td>\n",
              "      <td>0.0</td>\n",
              "      <td>non-toxic</td>\n",
              "    </tr>\n",
              "    <tr>\n",
              "      <th>20999</th>\n",
              "      <td>saudades da iasmin de 2017 eu era gótica demai...</td>\n",
              "      <td>0.0</td>\n",
              "      <td>0.0</td>\n",
              "      <td>0.0</td>\n",
              "      <td>0.0</td>\n",
              "      <td>0.0</td>\n",
              "      <td>0.0</td>\n",
              "      <td>non-toxic</td>\n",
              "    </tr>\n",
              "  </tbody>\n",
              "</table>\n",
              "<p>21000 rows × 8 columns</p>\n",
              "</div>\n",
              "      <button class=\"colab-df-convert\" onclick=\"convertToInteractive('df-24d2c7f0-de1c-4094-ae5a-b30c4238f445')\"\n",
              "              title=\"Convert this dataframe to an interactive table.\"\n",
              "              style=\"display:none;\">\n",
              "        \n",
              "  <svg xmlns=\"http://www.w3.org/2000/svg\" height=\"24px\"viewBox=\"0 0 24 24\"\n",
              "       width=\"24px\">\n",
              "    <path d=\"M0 0h24v24H0V0z\" fill=\"none\"/>\n",
              "    <path d=\"M18.56 5.44l.94 2.06.94-2.06 2.06-.94-2.06-.94-.94-2.06-.94 2.06-2.06.94zm-11 1L8.5 8.5l.94-2.06 2.06-.94-2.06-.94L8.5 2.5l-.94 2.06-2.06.94zm10 10l.94 2.06.94-2.06 2.06-.94-2.06-.94-.94-2.06-.94 2.06-2.06.94z\"/><path d=\"M17.41 7.96l-1.37-1.37c-.4-.4-.92-.59-1.43-.59-.52 0-1.04.2-1.43.59L10.3 9.45l-7.72 7.72c-.78.78-.78 2.05 0 2.83L4 21.41c.39.39.9.59 1.41.59.51 0 1.02-.2 1.41-.59l7.78-7.78 2.81-2.81c.8-.78.8-2.07 0-2.86zM5.41 20L4 18.59l7.72-7.72 1.47 1.35L5.41 20z\"/>\n",
              "  </svg>\n",
              "      </button>\n",
              "      \n",
              "  <style>\n",
              "    .colab-df-container {\n",
              "      display:flex;\n",
              "      flex-wrap:wrap;\n",
              "      gap: 12px;\n",
              "    }\n",
              "\n",
              "    .colab-df-convert {\n",
              "      background-color: #E8F0FE;\n",
              "      border: none;\n",
              "      border-radius: 50%;\n",
              "      cursor: pointer;\n",
              "      display: none;\n",
              "      fill: #1967D2;\n",
              "      height: 32px;\n",
              "      padding: 0 0 0 0;\n",
              "      width: 32px;\n",
              "    }\n",
              "\n",
              "    .colab-df-convert:hover {\n",
              "      background-color: #E2EBFA;\n",
              "      box-shadow: 0px 1px 2px rgba(60, 64, 67, 0.3), 0px 1px 3px 1px rgba(60, 64, 67, 0.15);\n",
              "      fill: #174EA6;\n",
              "    }\n",
              "\n",
              "    [theme=dark] .colab-df-convert {\n",
              "      background-color: #3B4455;\n",
              "      fill: #D2E3FC;\n",
              "    }\n",
              "\n",
              "    [theme=dark] .colab-df-convert:hover {\n",
              "      background-color: #434B5C;\n",
              "      box-shadow: 0px 1px 3px 1px rgba(0, 0, 0, 0.15);\n",
              "      filter: drop-shadow(0px 1px 2px rgba(0, 0, 0, 0.3));\n",
              "      fill: #FFFFFF;\n",
              "    }\n",
              "  </style>\n",
              "\n",
              "      <script>\n",
              "        const buttonEl =\n",
              "          document.querySelector('#df-24d2c7f0-de1c-4094-ae5a-b30c4238f445 button.colab-df-convert');\n",
              "        buttonEl.style.display =\n",
              "          google.colab.kernel.accessAllowed ? 'block' : 'none';\n",
              "\n",
              "        async function convertToInteractive(key) {\n",
              "          const element = document.querySelector('#df-24d2c7f0-de1c-4094-ae5a-b30c4238f445');\n",
              "          const dataTable =\n",
              "            await google.colab.kernel.invokeFunction('convertToInteractive',\n",
              "                                                     [key], {});\n",
              "          if (!dataTable) return;\n",
              "\n",
              "          const docLinkHtml = 'Like what you see? Visit the ' +\n",
              "            '<a target=\"_blank\" href=https://colab.research.google.com/notebooks/data_table.ipynb>data table notebook</a>'\n",
              "            + ' to learn more about interactive tables.';\n",
              "          element.innerHTML = '';\n",
              "          dataTable['output_type'] = 'display_data';\n",
              "          await google.colab.output.renderOutput(dataTable, element);\n",
              "          const docLink = document.createElement('div');\n",
              "          docLink.innerHTML = docLinkHtml;\n",
              "          element.appendChild(docLink);\n",
              "        }\n",
              "      </script>\n",
              "    </div>\n",
              "  </div>\n",
              "  "
            ]
          },
          "metadata": {},
          "execution_count": 7
        }
      ]
    },
    {
      "cell_type": "code",
      "source": [
        "df = df[['text', 'label']]\n",
        "df.head()"
      ],
      "metadata": {
        "id": "6dZcVCpVdzA3",
        "colab": {
          "base_uri": "https://localhost:8080/",
          "height": 206
        },
        "outputId": "2a07b34d-9911-41d3-d0cd-1654e31a743d"
      },
      "execution_count": 8,
      "outputs": [
        {
          "output_type": "execute_result",
          "data": {
            "text/plain": [
              "                                                text  label\n",
              "0  Meu nivel de amizade com isis é ela ter meu in...  toxic\n",
              "1  rt @user @user o cara adultera dados, que fora...  toxic\n",
              "2  @user @user @user o cara só é simplesmente o m...  toxic\n",
              "3  eu to chorando vei vsf e eu nem staneio izone ...  toxic\n",
              "4  Eleitor do Bolsonaro é tão ignorante q não per...  toxic"
            ],
            "text/html": [
              "\n",
              "  <div id=\"df-5f34fd36-90d2-4925-8feb-20f510b0c772\">\n",
              "    <div class=\"colab-df-container\">\n",
              "      <div>\n",
              "<style scoped>\n",
              "    .dataframe tbody tr th:only-of-type {\n",
              "        vertical-align: middle;\n",
              "    }\n",
              "\n",
              "    .dataframe tbody tr th {\n",
              "        vertical-align: top;\n",
              "    }\n",
              "\n",
              "    .dataframe thead th {\n",
              "        text-align: right;\n",
              "    }\n",
              "</style>\n",
              "<table border=\"1\" class=\"dataframe\">\n",
              "  <thead>\n",
              "    <tr style=\"text-align: right;\">\n",
              "      <th></th>\n",
              "      <th>text</th>\n",
              "      <th>label</th>\n",
              "    </tr>\n",
              "  </thead>\n",
              "  <tbody>\n",
              "    <tr>\n",
              "      <th>0</th>\n",
              "      <td>Meu nivel de amizade com isis é ela ter meu in...</td>\n",
              "      <td>toxic</td>\n",
              "    </tr>\n",
              "    <tr>\n",
              "      <th>1</th>\n",
              "      <td>rt @user @user o cara adultera dados, que fora...</td>\n",
              "      <td>toxic</td>\n",
              "    </tr>\n",
              "    <tr>\n",
              "      <th>2</th>\n",
              "      <td>@user @user @user o cara só é simplesmente o m...</td>\n",
              "      <td>toxic</td>\n",
              "    </tr>\n",
              "    <tr>\n",
              "      <th>3</th>\n",
              "      <td>eu to chorando vei vsf e eu nem staneio izone ...</td>\n",
              "      <td>toxic</td>\n",
              "    </tr>\n",
              "    <tr>\n",
              "      <th>4</th>\n",
              "      <td>Eleitor do Bolsonaro é tão ignorante q não per...</td>\n",
              "      <td>toxic</td>\n",
              "    </tr>\n",
              "  </tbody>\n",
              "</table>\n",
              "</div>\n",
              "      <button class=\"colab-df-convert\" onclick=\"convertToInteractive('df-5f34fd36-90d2-4925-8feb-20f510b0c772')\"\n",
              "              title=\"Convert this dataframe to an interactive table.\"\n",
              "              style=\"display:none;\">\n",
              "        \n",
              "  <svg xmlns=\"http://www.w3.org/2000/svg\" height=\"24px\"viewBox=\"0 0 24 24\"\n",
              "       width=\"24px\">\n",
              "    <path d=\"M0 0h24v24H0V0z\" fill=\"none\"/>\n",
              "    <path d=\"M18.56 5.44l.94 2.06.94-2.06 2.06-.94-2.06-.94-.94-2.06-.94 2.06-2.06.94zm-11 1L8.5 8.5l.94-2.06 2.06-.94-2.06-.94L8.5 2.5l-.94 2.06-2.06.94zm10 10l.94 2.06.94-2.06 2.06-.94-2.06-.94-.94-2.06-.94 2.06-2.06.94z\"/><path d=\"M17.41 7.96l-1.37-1.37c-.4-.4-.92-.59-1.43-.59-.52 0-1.04.2-1.43.59L10.3 9.45l-7.72 7.72c-.78.78-.78 2.05 0 2.83L4 21.41c.39.39.9.59 1.41.59.51 0 1.02-.2 1.41-.59l7.78-7.78 2.81-2.81c.8-.78.8-2.07 0-2.86zM5.41 20L4 18.59l7.72-7.72 1.47 1.35L5.41 20z\"/>\n",
              "  </svg>\n",
              "      </button>\n",
              "      \n",
              "  <style>\n",
              "    .colab-df-container {\n",
              "      display:flex;\n",
              "      flex-wrap:wrap;\n",
              "      gap: 12px;\n",
              "    }\n",
              "\n",
              "    .colab-df-convert {\n",
              "      background-color: #E8F0FE;\n",
              "      border: none;\n",
              "      border-radius: 50%;\n",
              "      cursor: pointer;\n",
              "      display: none;\n",
              "      fill: #1967D2;\n",
              "      height: 32px;\n",
              "      padding: 0 0 0 0;\n",
              "      width: 32px;\n",
              "    }\n",
              "\n",
              "    .colab-df-convert:hover {\n",
              "      background-color: #E2EBFA;\n",
              "      box-shadow: 0px 1px 2px rgba(60, 64, 67, 0.3), 0px 1px 3px 1px rgba(60, 64, 67, 0.15);\n",
              "      fill: #174EA6;\n",
              "    }\n",
              "\n",
              "    [theme=dark] .colab-df-convert {\n",
              "      background-color: #3B4455;\n",
              "      fill: #D2E3FC;\n",
              "    }\n",
              "\n",
              "    [theme=dark] .colab-df-convert:hover {\n",
              "      background-color: #434B5C;\n",
              "      box-shadow: 0px 1px 3px 1px rgba(0, 0, 0, 0.15);\n",
              "      filter: drop-shadow(0px 1px 2px rgba(0, 0, 0, 0.3));\n",
              "      fill: #FFFFFF;\n",
              "    }\n",
              "  </style>\n",
              "\n",
              "      <script>\n",
              "        const buttonEl =\n",
              "          document.querySelector('#df-5f34fd36-90d2-4925-8feb-20f510b0c772 button.colab-df-convert');\n",
              "        buttonEl.style.display =\n",
              "          google.colab.kernel.accessAllowed ? 'block' : 'none';\n",
              "\n",
              "        async function convertToInteractive(key) {\n",
              "          const element = document.querySelector('#df-5f34fd36-90d2-4925-8feb-20f510b0c772');\n",
              "          const dataTable =\n",
              "            await google.colab.kernel.invokeFunction('convertToInteractive',\n",
              "                                                     [key], {});\n",
              "          if (!dataTable) return;\n",
              "\n",
              "          const docLinkHtml = 'Like what you see? Visit the ' +\n",
              "            '<a target=\"_blank\" href=https://colab.research.google.com/notebooks/data_table.ipynb>data table notebook</a>'\n",
              "            + ' to learn more about interactive tables.';\n",
              "          element.innerHTML = '';\n",
              "          dataTable['output_type'] = 'display_data';\n",
              "          await google.colab.output.renderOutput(dataTable, element);\n",
              "          const docLink = document.createElement('div');\n",
              "          docLink.innerHTML = docLinkHtml;\n",
              "          element.appendChild(docLink);\n",
              "        }\n",
              "      </script>\n",
              "    </div>\n",
              "  </div>\n",
              "  "
            ]
          },
          "metadata": {},
          "execution_count": 8
        }
      ]
    },
    {
      "cell_type": "markdown",
      "source": [
        "## Pre-processing\n"
      ],
      "metadata": {
        "id": "nDenfYKAqTp2"
      }
    },
    {
      "cell_type": "code",
      "source": [
        "def pre_processing(input_text):\n",
        "\n",
        "  stop_words = set(stopwords.words('portuguese'))\n",
        "\n",
        "  #for emot in EMOTICONS:\n",
        "  #  input_text = re.sub(u'('+emot+')', \"_\".join(EMOTICONS[emot].replace(\",\",\"\").split()), input_text)\n",
        "\n",
        "  words = re.sub(r'@[A-Za-z0-9]+', \" \", input_text.lower())\n",
        "  words = re.sub(r'https?://\\S+|www\\.\\S+', \"\", words)\n",
        "  words = re.sub(r'rt[\\s]+', \"\", words)\n",
        "  words = re.sub(r'[^\\w\\s]', \"\", words)\n",
        "  words = words.strip()\n",
        "  \n",
        "  phrase = \"\"\n",
        "  words = words.split()\n",
        "\n",
        "  for x in words:\n",
        "    if x not in stop_words:\n",
        "      phrase = phrase + \" \" + x\n",
        "\n",
        "     \n",
        "  return phrase\n",
        "\n",
        "df['text'] = np.vectorize(pre_processing)(df['text']) "
      ],
      "metadata": {
        "id": "FqoNxWWJryhz",
        "colab": {
          "base_uri": "https://localhost:8080/"
        },
        "outputId": "485a9da7-90a5-4de5-946f-6a166996ee54"
      },
      "execution_count": 9,
      "outputs": [
        {
          "output_type": "stream",
          "name": "stderr",
          "text": [
            "/usr/local/lib/python3.7/dist-packages/ipykernel_launcher.py:24: SettingWithCopyWarning: \n",
            "A value is trying to be set on a copy of a slice from a DataFrame.\n",
            "Try using .loc[row_indexer,col_indexer] = value instead\n",
            "\n",
            "See the caveats in the documentation: https://pandas.pydata.org/pandas-docs/stable/user_guide/indexing.html#returning-a-view-versus-a-copy\n"
          ]
        }
      ]
    },
    {
      "cell_type": "code",
      "source": [
        "df"
      ],
      "metadata": {
        "id": "ADu8HBoeNkDx",
        "colab": {
          "base_uri": "https://localhost:8080/",
          "height": 423
        },
        "outputId": "49b31a50-2796-4c16-fa8d-f914acc38a7b"
      },
      "execution_count": 10,
      "outputs": [
        {
          "output_type": "execute_result",
          "data": {
            "text/plain": [
              "                                                    text      label\n",
              "0       nivel amizade isis ter insta ter penso manda ...      toxic\n",
              "1       cara adultera dados desmascarados ainda quer ...      toxic\n",
              "2       cara simplesmente maior vencedor história fut...      toxic\n",
              "3                 to chorando vei vsf staneio izone nada      toxic\n",
              "4       eleitor bolsonaro tão ignorante q percebeu q ...      toxic\n",
              "...                                                  ...        ...\n",
              "20995                                faz favor vai carai  non-toxic\n",
              "20996   queria conhecer alguém conhece hetero taubaté...      toxic\n",
              "20997   vcs militam hora errada cima memes ngm suport...  non-toxic\n",
              "20998   porra any tava c dor cabeca comer mpn nowunit...  non-toxic\n",
              "20999             saudades iasmin 2017 gótica demais pqp  non-toxic\n",
              "\n",
              "[21000 rows x 2 columns]"
            ],
            "text/html": [
              "\n",
              "  <div id=\"df-f03e1e05-97bb-427b-b76d-be620a64d8cc\">\n",
              "    <div class=\"colab-df-container\">\n",
              "      <div>\n",
              "<style scoped>\n",
              "    .dataframe tbody tr th:only-of-type {\n",
              "        vertical-align: middle;\n",
              "    }\n",
              "\n",
              "    .dataframe tbody tr th {\n",
              "        vertical-align: top;\n",
              "    }\n",
              "\n",
              "    .dataframe thead th {\n",
              "        text-align: right;\n",
              "    }\n",
              "</style>\n",
              "<table border=\"1\" class=\"dataframe\">\n",
              "  <thead>\n",
              "    <tr style=\"text-align: right;\">\n",
              "      <th></th>\n",
              "      <th>text</th>\n",
              "      <th>label</th>\n",
              "    </tr>\n",
              "  </thead>\n",
              "  <tbody>\n",
              "    <tr>\n",
              "      <th>0</th>\n",
              "      <td>nivel amizade isis ter insta ter penso manda ...</td>\n",
              "      <td>toxic</td>\n",
              "    </tr>\n",
              "    <tr>\n",
              "      <th>1</th>\n",
              "      <td>cara adultera dados desmascarados ainda quer ...</td>\n",
              "      <td>toxic</td>\n",
              "    </tr>\n",
              "    <tr>\n",
              "      <th>2</th>\n",
              "      <td>cara simplesmente maior vencedor história fut...</td>\n",
              "      <td>toxic</td>\n",
              "    </tr>\n",
              "    <tr>\n",
              "      <th>3</th>\n",
              "      <td>to chorando vei vsf staneio izone nada</td>\n",
              "      <td>toxic</td>\n",
              "    </tr>\n",
              "    <tr>\n",
              "      <th>4</th>\n",
              "      <td>eleitor bolsonaro tão ignorante q percebeu q ...</td>\n",
              "      <td>toxic</td>\n",
              "    </tr>\n",
              "    <tr>\n",
              "      <th>...</th>\n",
              "      <td>...</td>\n",
              "      <td>...</td>\n",
              "    </tr>\n",
              "    <tr>\n",
              "      <th>20995</th>\n",
              "      <td>faz favor vai carai</td>\n",
              "      <td>non-toxic</td>\n",
              "    </tr>\n",
              "    <tr>\n",
              "      <th>20996</th>\n",
              "      <td>queria conhecer alguém conhece hetero taubaté...</td>\n",
              "      <td>toxic</td>\n",
              "    </tr>\n",
              "    <tr>\n",
              "      <th>20997</th>\n",
              "      <td>vcs militam hora errada cima memes ngm suport...</td>\n",
              "      <td>non-toxic</td>\n",
              "    </tr>\n",
              "    <tr>\n",
              "      <th>20998</th>\n",
              "      <td>porra any tava c dor cabeca comer mpn nowunit...</td>\n",
              "      <td>non-toxic</td>\n",
              "    </tr>\n",
              "    <tr>\n",
              "      <th>20999</th>\n",
              "      <td>saudades iasmin 2017 gótica demais pqp</td>\n",
              "      <td>non-toxic</td>\n",
              "    </tr>\n",
              "  </tbody>\n",
              "</table>\n",
              "<p>21000 rows × 2 columns</p>\n",
              "</div>\n",
              "      <button class=\"colab-df-convert\" onclick=\"convertToInteractive('df-f03e1e05-97bb-427b-b76d-be620a64d8cc')\"\n",
              "              title=\"Convert this dataframe to an interactive table.\"\n",
              "              style=\"display:none;\">\n",
              "        \n",
              "  <svg xmlns=\"http://www.w3.org/2000/svg\" height=\"24px\"viewBox=\"0 0 24 24\"\n",
              "       width=\"24px\">\n",
              "    <path d=\"M0 0h24v24H0V0z\" fill=\"none\"/>\n",
              "    <path d=\"M18.56 5.44l.94 2.06.94-2.06 2.06-.94-2.06-.94-.94-2.06-.94 2.06-2.06.94zm-11 1L8.5 8.5l.94-2.06 2.06-.94-2.06-.94L8.5 2.5l-.94 2.06-2.06.94zm10 10l.94 2.06.94-2.06 2.06-.94-2.06-.94-.94-2.06-.94 2.06-2.06.94z\"/><path d=\"M17.41 7.96l-1.37-1.37c-.4-.4-.92-.59-1.43-.59-.52 0-1.04.2-1.43.59L10.3 9.45l-7.72 7.72c-.78.78-.78 2.05 0 2.83L4 21.41c.39.39.9.59 1.41.59.51 0 1.02-.2 1.41-.59l7.78-7.78 2.81-2.81c.8-.78.8-2.07 0-2.86zM5.41 20L4 18.59l7.72-7.72 1.47 1.35L5.41 20z\"/>\n",
              "  </svg>\n",
              "      </button>\n",
              "      \n",
              "  <style>\n",
              "    .colab-df-container {\n",
              "      display:flex;\n",
              "      flex-wrap:wrap;\n",
              "      gap: 12px;\n",
              "    }\n",
              "\n",
              "    .colab-df-convert {\n",
              "      background-color: #E8F0FE;\n",
              "      border: none;\n",
              "      border-radius: 50%;\n",
              "      cursor: pointer;\n",
              "      display: none;\n",
              "      fill: #1967D2;\n",
              "      height: 32px;\n",
              "      padding: 0 0 0 0;\n",
              "      width: 32px;\n",
              "    }\n",
              "\n",
              "    .colab-df-convert:hover {\n",
              "      background-color: #E2EBFA;\n",
              "      box-shadow: 0px 1px 2px rgba(60, 64, 67, 0.3), 0px 1px 3px 1px rgba(60, 64, 67, 0.15);\n",
              "      fill: #174EA6;\n",
              "    }\n",
              "\n",
              "    [theme=dark] .colab-df-convert {\n",
              "      background-color: #3B4455;\n",
              "      fill: #D2E3FC;\n",
              "    }\n",
              "\n",
              "    [theme=dark] .colab-df-convert:hover {\n",
              "      background-color: #434B5C;\n",
              "      box-shadow: 0px 1px 3px 1px rgba(0, 0, 0, 0.15);\n",
              "      filter: drop-shadow(0px 1px 2px rgba(0, 0, 0, 0.3));\n",
              "      fill: #FFFFFF;\n",
              "    }\n",
              "  </style>\n",
              "\n",
              "      <script>\n",
              "        const buttonEl =\n",
              "          document.querySelector('#df-f03e1e05-97bb-427b-b76d-be620a64d8cc button.colab-df-convert');\n",
              "        buttonEl.style.display =\n",
              "          google.colab.kernel.accessAllowed ? 'block' : 'none';\n",
              "\n",
              "        async function convertToInteractive(key) {\n",
              "          const element = document.querySelector('#df-f03e1e05-97bb-427b-b76d-be620a64d8cc');\n",
              "          const dataTable =\n",
              "            await google.colab.kernel.invokeFunction('convertToInteractive',\n",
              "                                                     [key], {});\n",
              "          if (!dataTable) return;\n",
              "\n",
              "          const docLinkHtml = 'Like what you see? Visit the ' +\n",
              "            '<a target=\"_blank\" href=https://colab.research.google.com/notebooks/data_table.ipynb>data table notebook</a>'\n",
              "            + ' to learn more about interactive tables.';\n",
              "          element.innerHTML = '';\n",
              "          dataTable['output_type'] = 'display_data';\n",
              "          await google.colab.output.renderOutput(dataTable, element);\n",
              "          const docLink = document.createElement('div');\n",
              "          docLink.innerHTML = docLinkHtml;\n",
              "          element.appendChild(docLink);\n",
              "        }\n",
              "      </script>\n",
              "    </div>\n",
              "  </div>\n",
              "  "
            ]
          },
          "metadata": {},
          "execution_count": 10
        }
      ]
    },
    {
      "cell_type": "code",
      "source": [
        "df['label'].value_counts()"
      ],
      "metadata": {
        "id": "Gqi9XQBBqLRZ",
        "colab": {
          "base_uri": "https://localhost:8080/"
        },
        "outputId": "e450557f-c5d4-4ada-8eae-39471b53fde2"
      },
      "execution_count": 11,
      "outputs": [
        {
          "output_type": "execute_result",
          "data": {
            "text/plain": [
              "non-toxic    11745\n",
              "toxic         9255\n",
              "Name: label, dtype: int64"
            ]
          },
          "metadata": {},
          "execution_count": 11
        }
      ]
    },
    {
      "cell_type": "code",
      "source": [
        "X = np.array(df['text'])\n",
        "X"
      ],
      "metadata": {
        "id": "GzidDZ-f53q6",
        "colab": {
          "base_uri": "https://localhost:8080/"
        },
        "outputId": "4bdadb81-87d5-4433-c8c5-8846b2469bdf"
      },
      "execution_count": 12,
      "outputs": [
        {
          "output_type": "execute_result",
          "data": {
            "text/plain": [
              "array([' nivel amizade isis ter insta ter penso manda mensagem falano otario ta falando dnv insta',\n",
              "       ' cara adultera dados desmascarados ainda quer ficar governo',\n",
              "       ' cara simplesmente maior vencedor história futebol tá 36 anos gás demais gordo joelho fodido',\n",
              "       ...,\n",
              "       ' vcs militam hora errada cima memes ngm suporta jovem militância errada porra militar cima meme foda',\n",
              "       ' porra any tava c dor cabeca comer mpn nowunited uniters',\n",
              "       ' saudades iasmin 2017 gótica demais pqp'], dtype=object)"
            ]
          },
          "metadata": {},
          "execution_count": 12
        }
      ]
    },
    {
      "cell_type": "code",
      "source": [
        "y = np.array(df['label'])\n",
        "y"
      ],
      "metadata": {
        "id": "fBfR1gqF5-a1",
        "colab": {
          "base_uri": "https://localhost:8080/"
        },
        "outputId": "ceef6ac1-78b3-4829-b8bc-6dcc585521e3"
      },
      "execution_count": 13,
      "outputs": [
        {
          "output_type": "execute_result",
          "data": {
            "text/plain": [
              "array(['toxic', 'toxic', 'toxic', ..., 'non-toxic', 'non-toxic',\n",
              "       'non-toxic'], dtype=object)"
            ]
          },
          "metadata": {},
          "execution_count": 13
        }
      ]
    },
    {
      "cell_type": "code",
      "source": [
        "X_train, X_test, y_train, y_test = train_test_split(X,y,\n",
        "                                                    train_size=0.8, \n",
        "                                                    random_state=42)\n",
        "  "
      ],
      "metadata": {
        "id": "nIBUkCtoskqB"
      },
      "execution_count": 14,
      "outputs": []
    },
    {
      "cell_type": "code",
      "source": [
        "X_train, X_valid, y_train, y_valid = train_test_split(X_train,y_train,\n",
        "                                                    test_size=0.2, \n",
        "                                                    random_state=42)"
      ],
      "metadata": {
        "id": "zCJbtBnLs2Zx"
      },
      "execution_count": 15,
      "outputs": []
    },
    {
      "cell_type": "markdown",
      "source": [
        "## Word2Vec + Embedding Layer"
      ],
      "metadata": {
        "id": "Q8VPzfDEFjcV"
      }
    },
    {
      "cell_type": "code",
      "source": [
        "tokenizer = Tokenizer()\n",
        "tokenizer.fit_on_texts(df['text'].to_numpy())\n",
        "word2index = tokenizer.word_index # word_index assigns a unique index to each character present in the text.\n",
        "vocab_size = len(word2index)"
      ],
      "metadata": {
        "id": "yOhO5rnG2NxE"
      },
      "execution_count": 16,
      "outputs": []
    },
    {
      "cell_type": "code",
      "source": [
        "lista = []\n",
        "for i in df['text']:\n",
        "  lista.append(i.split())\n",
        "  \n",
        "model = Word2Vec(lista, window = 3, min_count = 1, workers = 4, sg = 1)  "
      ],
      "metadata": {
        "id": "DRfseYntFydb"
      },
      "execution_count": 17,
      "outputs": []
    },
    {
      "cell_type": "code",
      "source": [
        "word_vectors = model.wv"
      ],
      "metadata": {
        "id": "327fXzxyFw7r"
      },
      "execution_count": 18,
      "outputs": []
    },
    {
      "cell_type": "code",
      "source": [
        "# Converter dados para uma matrix de shape(27654, 100)\n",
        "embedding_dim = 100\n",
        "vocabulary_size = len(word2index) + 1\n",
        "\n",
        "embedding_matrix = np.zeros((vocabulary_size, embedding_dim))\n",
        "for word, i in word2index.items():\n",
        "    if i >= vocab_size:\n",
        "        continue\n",
        "\n",
        "    try:\n",
        "        embedding_vector = word_vectors[word]\n",
        "        embedding_matrix[i] = embedding_vector\n",
        "    except KeyError:\n",
        "        embedding_matrix[i] = np.random.normal(0,1,embedding_dim)"
      ],
      "metadata": {
        "id": "eLDZM7htF0ym"
      },
      "execution_count": 19,
      "outputs": []
    },
    {
      "cell_type": "code",
      "source": [
        "max_length = 50"
      ],
      "metadata": {
        "id": "xFctoKwEF4Wn"
      },
      "execution_count": 20,
      "outputs": []
    },
    {
      "cell_type": "code",
      "source": [
        "# Criar a embedding layer \n",
        "embedding_layer = Embedding(vocabulary_size,\n",
        "                            embedding_dim,\n",
        "                            embeddings_initializer=keras.initializers.Constant(embedding_matrix),\n",
        "                            input_length=max_length,\n",
        "                            trainable=False)"
      ],
      "metadata": {
        "id": "EsUR0tk7F4QZ"
      },
      "execution_count": 21,
      "outputs": []
    },
    {
      "cell_type": "markdown",
      "source": [
        "## Numecarilização"
      ],
      "metadata": {
        "id": "vb1KNt_hF7_9"
      }
    },
    {
      "cell_type": "code",
      "source": [
        "y_train = pd.Categorical(y_train)\n",
        "y_train_int = y_train.codes\n",
        "\n",
        "y_test = pd.Categorical(y_test)\n",
        "y_test_int = y_test.codes\n",
        "\n",
        "y_valid = pd.Categorical(y_valid)\n",
        "y_valid_int = y_valid.codes\n",
        "\n",
        "y_train = to_categorical(y_train_int)\n",
        "y_test = to_categorical(y_test_int)\n",
        "y_valid = to_categorical(y_valid_int)\n"
      ],
      "metadata": {
        "id": "YtQBhi9FF7ar"
      },
      "execution_count": 22,
      "outputs": []
    },
    {
      "cell_type": "code",
      "source": [
        "#y_train, y_test, y_valid = loggits(y_train, y_test, y_valid)\n",
        "\n",
        "train_sequences = tokenizer.texts_to_sequences(X_train)\n",
        "test_sequences = tokenizer.texts_to_sequences(X_test)\n",
        "valid_sequences = tokenizer.texts_to_sequences(X_valid)\n"
      ],
      "metadata": {
        "id": "beEP6WtSHggk"
      },
      "execution_count": 23,
      "outputs": []
    },
    {
      "cell_type": "code",
      "source": [
        "trunc_type = 'post'\n",
        "padding_type = 'post'\n",
        "  \n",
        "train_padded = pad_sequences(train_sequences, maxlen=max_length, padding=padding_type, truncating=trunc_type)\n",
        "test_padded = pad_sequences(test_sequences, maxlen=max_length, padding=padding_type, truncating=trunc_type)\n",
        "valid_padded = pad_sequences(valid_sequences, maxlen=max_length, padding=padding_type, truncating=trunc_type)"
      ],
      "metadata": {
        "id": "tTXv8RtXFVHt"
      },
      "execution_count": 24,
      "outputs": []
    },
    {
      "cell_type": "markdown",
      "source": [
        "## CNN"
      ],
      "metadata": {
        "id": "CMHBM4IUD6O9"
      }
    },
    {
      "cell_type": "code",
      "source": [
        "model = Sequential()\n",
        "\n",
        "model.add(embedding_layer) \n",
        "model.add(Dropout(0.2))\n",
        "model.add(Conv1D(filters=128, kernel_size=2, activation='relu', strides=1))\n",
        "model.add(MaxPooling1D())\n",
        "model.add(Conv1D(filters=128, kernel_size=3, activation='relu', strides=1))\n",
        "model.add(MaxPooling1D())\n",
        "model.add(Conv1D(filters=128, kernel_size=4, activation='relu', strides=1))\n",
        "model.add(MaxPooling1D())\n",
        "model.add(Flatten())\n",
        "model.add(Dropout(0.5))\n",
        "model.add(Dense(2, activation='sigmoid'))\n",
        "model.summary()"
      ],
      "metadata": {
        "id": "H4pAes1EXFq2",
        "colab": {
          "base_uri": "https://localhost:8080/"
        },
        "outputId": "bfa2a784-2424-4662-f9c7-4ce7585409c9"
      },
      "execution_count": 25,
      "outputs": [
        {
          "output_type": "stream",
          "name": "stdout",
          "text": [
            "Model: \"sequential\"\n",
            "_________________________________________________________________\n",
            " Layer (type)                Output Shape              Param #   \n",
            "=================================================================\n",
            " embedding (Embedding)       (None, 50, 100)           2765400   \n",
            "                                                                 \n",
            " dropout (Dropout)           (None, 50, 100)           0         \n",
            "                                                                 \n",
            " conv1d (Conv1D)             (None, 49, 128)           25728     \n",
            "                                                                 \n",
            " max_pooling1d (MaxPooling1D  (None, 24, 128)          0         \n",
            " )                                                               \n",
            "                                                                 \n",
            " conv1d_1 (Conv1D)           (None, 22, 128)           49280     \n",
            "                                                                 \n",
            " max_pooling1d_1 (MaxPooling  (None, 11, 128)          0         \n",
            " 1D)                                                             \n",
            "                                                                 \n",
            " conv1d_2 (Conv1D)           (None, 8, 128)            65664     \n",
            "                                                                 \n",
            " max_pooling1d_2 (MaxPooling  (None, 4, 128)           0         \n",
            " 1D)                                                             \n",
            "                                                                 \n",
            " flatten (Flatten)           (None, 512)               0         \n",
            "                                                                 \n",
            " dropout_1 (Dropout)         (None, 512)               0         \n",
            "                                                                 \n",
            " dense (Dense)               (None, 2)                 1026      \n",
            "                                                                 \n",
            "=================================================================\n",
            "Total params: 2,907,098\n",
            "Trainable params: 141,698\n",
            "Non-trainable params: 2,765,400\n",
            "_________________________________________________________________\n"
          ]
        }
      ]
    },
    {
      "cell_type": "code",
      "source": [
        "sgd = SGD(learning_rate=0.01)\n",
        "model.compile(loss=\"binary_crossentropy\",optimizer=sgd,metrics=['accuracy'])\n",
        "history = model.fit(train_padded,y_train, validation_data=(valid_padded,y_valid), batch_size=64,epochs=100)"
      ],
      "metadata": {
        "id": "oSMteu7uLW--",
        "colab": {
          "base_uri": "https://localhost:8080/"
        },
        "outputId": "06e239c5-c5d5-40d6-8634-3a7fc0200677"
      },
      "execution_count": 26,
      "outputs": [
        {
          "output_type": "stream",
          "name": "stdout",
          "text": [
            "Epoch 1/100\n",
            "210/210 [==============================] - 10s 44ms/step - loss: 0.6911 - accuracy: 0.5478 - val_loss: 0.6885 - val_accuracy: 0.5598\n",
            "Epoch 2/100\n",
            "210/210 [==============================] - 9s 43ms/step - loss: 0.6885 - accuracy: 0.5580 - val_loss: 0.6872 - val_accuracy: 0.5598\n",
            "Epoch 3/100\n",
            "210/210 [==============================] - 9s 43ms/step - loss: 0.6880 - accuracy: 0.5580 - val_loss: 0.6867 - val_accuracy: 0.5598\n",
            "Epoch 4/100\n",
            "210/210 [==============================] - 9s 42ms/step - loss: 0.6878 - accuracy: 0.5578 - val_loss: 0.6862 - val_accuracy: 0.5598\n",
            "Epoch 5/100\n",
            "210/210 [==============================] - 9s 42ms/step - loss: 0.6870 - accuracy: 0.5577 - val_loss: 0.6858 - val_accuracy: 0.5598\n",
            "Epoch 6/100\n",
            "210/210 [==============================] - 9s 42ms/step - loss: 0.6866 - accuracy: 0.5577 - val_loss: 0.6854 - val_accuracy: 0.5598\n",
            "Epoch 7/100\n",
            "210/210 [==============================] - 9s 42ms/step - loss: 0.6860 - accuracy: 0.5589 - val_loss: 0.6850 - val_accuracy: 0.5598\n",
            "Epoch 8/100\n",
            "210/210 [==============================] - 11s 53ms/step - loss: 0.6864 - accuracy: 0.5577 - val_loss: 0.6847 - val_accuracy: 0.5598\n",
            "Epoch 9/100\n",
            "210/210 [==============================] - 9s 42ms/step - loss: 0.6854 - accuracy: 0.5592 - val_loss: 0.6843 - val_accuracy: 0.5598\n",
            "Epoch 10/100\n",
            "210/210 [==============================] - 9s 42ms/step - loss: 0.6854 - accuracy: 0.5586 - val_loss: 0.6840 - val_accuracy: 0.5598\n",
            "Epoch 11/100\n",
            "210/210 [==============================] - 9s 43ms/step - loss: 0.6850 - accuracy: 0.5584 - val_loss: 0.6836 - val_accuracy: 0.5598\n",
            "Epoch 12/100\n",
            "210/210 [==============================] - 10s 49ms/step - loss: 0.6841 - accuracy: 0.5603 - val_loss: 0.6831 - val_accuracy: 0.5598\n",
            "Epoch 13/100\n",
            "210/210 [==============================] - 9s 43ms/step - loss: 0.6836 - accuracy: 0.5612 - val_loss: 0.6826 - val_accuracy: 0.5598\n",
            "Epoch 14/100\n",
            "210/210 [==============================] - 9s 44ms/step - loss: 0.6833 - accuracy: 0.5614 - val_loss: 0.6822 - val_accuracy: 0.5598\n",
            "Epoch 15/100\n",
            "210/210 [==============================] - 9s 44ms/step - loss: 0.6831 - accuracy: 0.5629 - val_loss: 0.6816 - val_accuracy: 0.5607\n",
            "Epoch 16/100\n",
            "210/210 [==============================] - 9s 45ms/step - loss: 0.6829 - accuracy: 0.5640 - val_loss: 0.6810 - val_accuracy: 0.5610\n",
            "Epoch 17/100\n",
            "210/210 [==============================] - 9s 45ms/step - loss: 0.6823 - accuracy: 0.5658 - val_loss: 0.6803 - val_accuracy: 0.5661\n",
            "Epoch 18/100\n",
            "210/210 [==============================] - 10s 46ms/step - loss: 0.6809 - accuracy: 0.5702 - val_loss: 0.6794 - val_accuracy: 0.5685\n",
            "Epoch 19/100\n",
            "210/210 [==============================] - 9s 45ms/step - loss: 0.6808 - accuracy: 0.5723 - val_loss: 0.6787 - val_accuracy: 0.5676\n",
            "Epoch 20/100\n",
            "210/210 [==============================] - 10s 46ms/step - loss: 0.6799 - accuracy: 0.5724 - val_loss: 0.6775 - val_accuracy: 0.5741\n",
            "Epoch 21/100\n",
            "210/210 [==============================] - 10s 46ms/step - loss: 0.6786 - accuracy: 0.5792 - val_loss: 0.6762 - val_accuracy: 0.5833\n",
            "Epoch 22/100\n",
            "210/210 [==============================] - 9s 45ms/step - loss: 0.6774 - accuracy: 0.5799 - val_loss: 0.6750 - val_accuracy: 0.5845\n",
            "Epoch 23/100\n",
            "210/210 [==============================] - 10s 45ms/step - loss: 0.6765 - accuracy: 0.5847 - val_loss: 0.6733 - val_accuracy: 0.5902\n",
            "Epoch 24/100\n",
            "210/210 [==============================] - 10s 46ms/step - loss: 0.6749 - accuracy: 0.5914 - val_loss: 0.6713 - val_accuracy: 0.6000\n",
            "Epoch 25/100\n",
            "210/210 [==============================] - 10s 46ms/step - loss: 0.6735 - accuracy: 0.5894 - val_loss: 0.6697 - val_accuracy: 0.5970\n",
            "Epoch 26/100\n",
            "210/210 [==============================] - 11s 52ms/step - loss: 0.6721 - accuracy: 0.5934 - val_loss: 0.6680 - val_accuracy: 0.5988\n",
            "Epoch 27/100\n",
            "210/210 [==============================] - 10s 46ms/step - loss: 0.6697 - accuracy: 0.5998 - val_loss: 0.6647 - val_accuracy: 0.6074\n",
            "Epoch 28/100\n",
            "210/210 [==============================] - 10s 45ms/step - loss: 0.6670 - accuracy: 0.6039 - val_loss: 0.6615 - val_accuracy: 0.6167\n",
            "Epoch 29/100\n",
            "210/210 [==============================] - 9s 45ms/step - loss: 0.6639 - accuracy: 0.6109 - val_loss: 0.6590 - val_accuracy: 0.6158\n",
            "Epoch 30/100\n",
            "210/210 [==============================] - 10s 45ms/step - loss: 0.6618 - accuracy: 0.6106 - val_loss: 0.6553 - val_accuracy: 0.6208\n",
            "Epoch 31/100\n",
            "210/210 [==============================] - 10s 46ms/step - loss: 0.6590 - accuracy: 0.6149 - val_loss: 0.6531 - val_accuracy: 0.6205\n",
            "Epoch 32/100\n",
            "210/210 [==============================] - 10s 46ms/step - loss: 0.6564 - accuracy: 0.6227 - val_loss: 0.6498 - val_accuracy: 0.6241\n",
            "Epoch 33/100\n",
            "210/210 [==============================] - 9s 45ms/step - loss: 0.6549 - accuracy: 0.6228 - val_loss: 0.6490 - val_accuracy: 0.6250\n",
            "Epoch 34/100\n",
            "210/210 [==============================] - 9s 45ms/step - loss: 0.6503 - accuracy: 0.6275 - val_loss: 0.6468 - val_accuracy: 0.6250\n",
            "Epoch 35/100\n",
            "210/210 [==============================] - 9s 45ms/step - loss: 0.6487 - accuracy: 0.6262 - val_loss: 0.6486 - val_accuracy: 0.6235\n",
            "Epoch 36/100\n",
            "210/210 [==============================] - 9s 45ms/step - loss: 0.6466 - accuracy: 0.6289 - val_loss: 0.6397 - val_accuracy: 0.6295\n",
            "Epoch 37/100\n",
            "210/210 [==============================] - 9s 45ms/step - loss: 0.6442 - accuracy: 0.6270 - val_loss: 0.6444 - val_accuracy: 0.6277\n",
            "Epoch 38/100\n",
            "210/210 [==============================] - 9s 45ms/step - loss: 0.6432 - accuracy: 0.6303 - val_loss: 0.6370 - val_accuracy: 0.6315\n",
            "Epoch 39/100\n",
            "210/210 [==============================] - 10s 46ms/step - loss: 0.6411 - accuracy: 0.6342 - val_loss: 0.6353 - val_accuracy: 0.6327\n",
            "Epoch 40/100\n",
            "210/210 [==============================] - 11s 51ms/step - loss: 0.6406 - accuracy: 0.6346 - val_loss: 0.6359 - val_accuracy: 0.6307\n",
            "Epoch 41/100\n",
            "210/210 [==============================] - 10s 47ms/step - loss: 0.6397 - accuracy: 0.6362 - val_loss: 0.6345 - val_accuracy: 0.6321\n",
            "Epoch 42/100\n",
            "210/210 [==============================] - 10s 47ms/step - loss: 0.6383 - accuracy: 0.6376 - val_loss: 0.6383 - val_accuracy: 0.6345\n",
            "Epoch 43/100\n",
            "210/210 [==============================] - 10s 46ms/step - loss: 0.6375 - accuracy: 0.6377 - val_loss: 0.6331 - val_accuracy: 0.6336\n",
            "Epoch 44/100\n",
            "210/210 [==============================] - 10s 46ms/step - loss: 0.6356 - accuracy: 0.6411 - val_loss: 0.6320 - val_accuracy: 0.6351\n",
            "Epoch 45/100\n",
            "210/210 [==============================] - 10s 46ms/step - loss: 0.6354 - accuracy: 0.6402 - val_loss: 0.6329 - val_accuracy: 0.6363\n",
            "Epoch 46/100\n",
            "210/210 [==============================] - 10s 46ms/step - loss: 0.6355 - accuracy: 0.6400 - val_loss: 0.6315 - val_accuracy: 0.6384\n",
            "Epoch 47/100\n",
            "210/210 [==============================] - 10s 46ms/step - loss: 0.6344 - accuracy: 0.6406 - val_loss: 0.6289 - val_accuracy: 0.6390\n",
            "Epoch 48/100\n",
            "210/210 [==============================] - 10s 46ms/step - loss: 0.6334 - accuracy: 0.6450 - val_loss: 0.6270 - val_accuracy: 0.6417\n",
            "Epoch 49/100\n",
            "210/210 [==============================] - 10s 46ms/step - loss: 0.6349 - accuracy: 0.6402 - val_loss: 0.6268 - val_accuracy: 0.6432\n",
            "Epoch 50/100\n",
            "210/210 [==============================] - 10s 46ms/step - loss: 0.6318 - accuracy: 0.6440 - val_loss: 0.6338 - val_accuracy: 0.6396\n",
            "Epoch 51/100\n",
            "210/210 [==============================] - 10s 46ms/step - loss: 0.6327 - accuracy: 0.6464 - val_loss: 0.6266 - val_accuracy: 0.6443\n",
            "Epoch 52/100\n",
            "210/210 [==============================] - 10s 46ms/step - loss: 0.6324 - accuracy: 0.6435 - val_loss: 0.6279 - val_accuracy: 0.6443\n",
            "Epoch 53/100\n",
            "210/210 [==============================] - 10s 47ms/step - loss: 0.6315 - accuracy: 0.6434 - val_loss: 0.6244 - val_accuracy: 0.6467\n",
            "Epoch 54/100\n",
            "210/210 [==============================] - 10s 50ms/step - loss: 0.6305 - accuracy: 0.6499 - val_loss: 0.6283 - val_accuracy: 0.6452\n",
            "Epoch 55/100\n",
            "210/210 [==============================] - 10s 49ms/step - loss: 0.6292 - accuracy: 0.6442 - val_loss: 0.6300 - val_accuracy: 0.6455\n",
            "Epoch 56/100\n",
            "210/210 [==============================] - 10s 46ms/step - loss: 0.6290 - accuracy: 0.6473 - val_loss: 0.6274 - val_accuracy: 0.6473\n",
            "Epoch 57/100\n",
            "210/210 [==============================] - 10s 47ms/step - loss: 0.6288 - accuracy: 0.6493 - val_loss: 0.6250 - val_accuracy: 0.6482\n",
            "Epoch 58/100\n",
            "210/210 [==============================] - 10s 46ms/step - loss: 0.6275 - accuracy: 0.6509 - val_loss: 0.6291 - val_accuracy: 0.6464\n",
            "Epoch 59/100\n",
            "210/210 [==============================] - 10s 47ms/step - loss: 0.6274 - accuracy: 0.6504 - val_loss: 0.6273 - val_accuracy: 0.6476\n",
            "Epoch 60/100\n",
            "210/210 [==============================] - 10s 46ms/step - loss: 0.6274 - accuracy: 0.6501 - val_loss: 0.6223 - val_accuracy: 0.6488\n",
            "Epoch 61/100\n",
            "210/210 [==============================] - 10s 45ms/step - loss: 0.6257 - accuracy: 0.6521 - val_loss: 0.6223 - val_accuracy: 0.6500\n",
            "Epoch 62/100\n",
            "210/210 [==============================] - 10s 46ms/step - loss: 0.6263 - accuracy: 0.6512 - val_loss: 0.6221 - val_accuracy: 0.6524\n",
            "Epoch 63/100\n",
            "210/210 [==============================] - 10s 46ms/step - loss: 0.6249 - accuracy: 0.6513 - val_loss: 0.6195 - val_accuracy: 0.6542\n",
            "Epoch 64/100\n",
            "210/210 [==============================] - 10s 46ms/step - loss: 0.6257 - accuracy: 0.6548 - val_loss: 0.6231 - val_accuracy: 0.6506\n",
            "Epoch 65/100\n",
            "210/210 [==============================] - 10s 46ms/step - loss: 0.6259 - accuracy: 0.6516 - val_loss: 0.6243 - val_accuracy: 0.6497\n",
            "Epoch 66/100\n",
            "210/210 [==============================] - 10s 46ms/step - loss: 0.6236 - accuracy: 0.6535 - val_loss: 0.6297 - val_accuracy: 0.6485\n",
            "Epoch 67/100\n",
            "210/210 [==============================] - 10s 46ms/step - loss: 0.6252 - accuracy: 0.6516 - val_loss: 0.6216 - val_accuracy: 0.6518\n",
            "Epoch 68/100\n",
            "210/210 [==============================] - 10s 47ms/step - loss: 0.6240 - accuracy: 0.6523 - val_loss: 0.6186 - val_accuracy: 0.6574\n",
            "Epoch 69/100\n",
            "210/210 [==============================] - 11s 52ms/step - loss: 0.6254 - accuracy: 0.6518 - val_loss: 0.6204 - val_accuracy: 0.6545\n",
            "Epoch 70/100\n",
            "210/210 [==============================] - 10s 46ms/step - loss: 0.6268 - accuracy: 0.6528 - val_loss: 0.6222 - val_accuracy: 0.6530\n",
            "Epoch 71/100\n",
            "210/210 [==============================] - 10s 47ms/step - loss: 0.6248 - accuracy: 0.6544 - val_loss: 0.6218 - val_accuracy: 0.6539\n",
            "Epoch 72/100\n",
            "210/210 [==============================] - 10s 47ms/step - loss: 0.6230 - accuracy: 0.6566 - val_loss: 0.6210 - val_accuracy: 0.6536\n",
            "Epoch 73/100\n",
            "210/210 [==============================] - 10s 47ms/step - loss: 0.6216 - accuracy: 0.6554 - val_loss: 0.6177 - val_accuracy: 0.6640\n",
            "Epoch 74/100\n",
            "210/210 [==============================] - 10s 47ms/step - loss: 0.6241 - accuracy: 0.6538 - val_loss: 0.6203 - val_accuracy: 0.6545\n",
            "Epoch 75/100\n",
            "210/210 [==============================] - 10s 47ms/step - loss: 0.6218 - accuracy: 0.6573 - val_loss: 0.6181 - val_accuracy: 0.6613\n",
            "Epoch 76/100\n",
            "210/210 [==============================] - 10s 48ms/step - loss: 0.6221 - accuracy: 0.6568 - val_loss: 0.6174 - val_accuracy: 0.6652\n",
            "Epoch 77/100\n",
            "210/210 [==============================] - 10s 48ms/step - loss: 0.6217 - accuracy: 0.6525 - val_loss: 0.6179 - val_accuracy: 0.6622\n",
            "Epoch 78/100\n",
            "210/210 [==============================] - 10s 47ms/step - loss: 0.6228 - accuracy: 0.6571 - val_loss: 0.6176 - val_accuracy: 0.6637\n",
            "Epoch 79/100\n",
            "210/210 [==============================] - 10s 46ms/step - loss: 0.6208 - accuracy: 0.6560 - val_loss: 0.6166 - val_accuracy: 0.6640\n",
            "Epoch 80/100\n",
            "210/210 [==============================] - 10s 47ms/step - loss: 0.6205 - accuracy: 0.6583 - val_loss: 0.6217 - val_accuracy: 0.6545\n",
            "Epoch 81/100\n",
            "210/210 [==============================] - 10s 46ms/step - loss: 0.6211 - accuracy: 0.6540 - val_loss: 0.6159 - val_accuracy: 0.6655\n",
            "Epoch 82/100\n",
            "210/210 [==============================] - 11s 52ms/step - loss: 0.6194 - accuracy: 0.6613 - val_loss: 0.6211 - val_accuracy: 0.6554\n",
            "Epoch 83/100\n",
            "210/210 [==============================] - 10s 46ms/step - loss: 0.6199 - accuracy: 0.6541 - val_loss: 0.6146 - val_accuracy: 0.6699\n",
            "Epoch 84/100\n",
            "210/210 [==============================] - 10s 47ms/step - loss: 0.6183 - accuracy: 0.6608 - val_loss: 0.6238 - val_accuracy: 0.6554\n",
            "Epoch 85/100\n",
            "210/210 [==============================] - 10s 47ms/step - loss: 0.6193 - accuracy: 0.6625 - val_loss: 0.6147 - val_accuracy: 0.6696\n",
            "Epoch 86/100\n",
            "210/210 [==============================] - 10s 47ms/step - loss: 0.6203 - accuracy: 0.6589 - val_loss: 0.6172 - val_accuracy: 0.6646\n",
            "Epoch 87/100\n",
            "210/210 [==============================] - 10s 46ms/step - loss: 0.6197 - accuracy: 0.6593 - val_loss: 0.6181 - val_accuracy: 0.6655\n",
            "Epoch 88/100\n",
            "210/210 [==============================] - 10s 47ms/step - loss: 0.6196 - accuracy: 0.6583 - val_loss: 0.6201 - val_accuracy: 0.6601\n",
            "Epoch 89/100\n",
            "210/210 [==============================] - 10s 47ms/step - loss: 0.6201 - accuracy: 0.6573 - val_loss: 0.6173 - val_accuracy: 0.6667\n",
            "Epoch 90/100\n",
            "210/210 [==============================] - 10s 46ms/step - loss: 0.6197 - accuracy: 0.6598 - val_loss: 0.6149 - val_accuracy: 0.6705\n",
            "Epoch 91/100\n",
            "210/210 [==============================] - 10s 47ms/step - loss: 0.6171 - accuracy: 0.6607 - val_loss: 0.6150 - val_accuracy: 0.6685\n",
            "Epoch 92/100\n",
            "210/210 [==============================] - 10s 46ms/step - loss: 0.6171 - accuracy: 0.6622 - val_loss: 0.6183 - val_accuracy: 0.6670\n",
            "Epoch 93/100\n",
            "210/210 [==============================] - 10s 47ms/step - loss: 0.6200 - accuracy: 0.6536 - val_loss: 0.6193 - val_accuracy: 0.6664\n",
            "Epoch 94/100\n",
            "210/210 [==============================] - 10s 47ms/step - loss: 0.6190 - accuracy: 0.6586 - val_loss: 0.6187 - val_accuracy: 0.6676\n",
            "Epoch 95/100\n",
            "210/210 [==============================] - 10s 47ms/step - loss: 0.6174 - accuracy: 0.6597 - val_loss: 0.6192 - val_accuracy: 0.6667\n",
            "Epoch 96/100\n",
            "210/210 [==============================] - 11s 52ms/step - loss: 0.6179 - accuracy: 0.6602 - val_loss: 0.6146 - val_accuracy: 0.6699\n",
            "Epoch 97/100\n",
            "210/210 [==============================] - 10s 47ms/step - loss: 0.6181 - accuracy: 0.6578 - val_loss: 0.6124 - val_accuracy: 0.6714\n",
            "Epoch 98/100\n",
            "210/210 [==============================] - 10s 47ms/step - loss: 0.6174 - accuracy: 0.6625 - val_loss: 0.6122 - val_accuracy: 0.6735\n",
            "Epoch 99/100\n",
            "210/210 [==============================] - 10s 46ms/step - loss: 0.6170 - accuracy: 0.6612 - val_loss: 0.6149 - val_accuracy: 0.6687\n",
            "Epoch 100/100\n",
            "210/210 [==============================] - 10s 47ms/step - loss: 0.6170 - accuracy: 0.6612 - val_loss: 0.6117 - val_accuracy: 0.6762\n"
          ]
        }
      ]
    },
    {
      "cell_type": "code",
      "source": [
        "scores = model.evaluate(test_padded, y_test, verbose=0)\n",
        "print(f\"Accuracy: {(scores[1]*100)}\")"
      ],
      "metadata": {
        "id": "rD1ke6Y7oyuz",
        "colab": {
          "base_uri": "https://localhost:8080/"
        },
        "outputId": "ccc1c237-0226-4f5d-fa7b-87a7c3795418"
      },
      "execution_count": 27,
      "outputs": [
        {
          "output_type": "stream",
          "name": "stdout",
          "text": [
            "Accuracy: 66.73809289932251\n"
          ]
        }
      ]
    },
    {
      "cell_type": "code",
      "source": [
        "y_prob = model.predict(test_padded)\n",
        "y_pred = np.argmax(y_prob,axis=1)\n",
        "print(classification_report(y_test_int, y_pred))"
      ],
      "metadata": {
        "id": "WPDkfX1ScAHx",
        "colab": {
          "base_uri": "https://localhost:8080/"
        },
        "outputId": "26257964-cb38-4154-f57a-3022c6ca96ca"
      },
      "execution_count": 28,
      "outputs": [
        {
          "output_type": "stream",
          "name": "stdout",
          "text": [
            "              precision    recall  f1-score   support\n",
            "\n",
            "           0       0.66      0.85      0.74      2370\n",
            "           1       0.69      0.44      0.53      1830\n",
            "\n",
            "    accuracy                           0.67      4200\n",
            "   macro avg       0.67      0.64      0.64      4200\n",
            "weighted avg       0.67      0.67      0.65      4200\n",
            "\n"
          ]
        }
      ]
    },
    {
      "cell_type": "code",
      "source": [
        "plt.plot(history.history['accuracy'])\n",
        "plt.plot(history.history['val_accuracy'])\n",
        "plt.title('Model Accuracy')\n",
        "plt.ylabel('accuracy')\n",
        "plt.xlabel('epoch')\n",
        "plt.legend(['training set','validation set'], loc='upper left')\n",
        "plt.show()"
      ],
      "metadata": {
        "id": "y4KbwuJVHchB",
        "colab": {
          "base_uri": "https://localhost:8080/",
          "height": 295
        },
        "outputId": "2575190e-8fad-4e73-ebf8-af27dda8bf4f"
      },
      "execution_count": 29,
      "outputs": [
        {
          "output_type": "display_data",
          "data": {
            "text/plain": [
              "<Figure size 432x288 with 1 Axes>"
            ],
            "image/png": "[encoded data removed]"
          },
          "metadata": {
            "needs_background": "light"
          }
        }
      ]
    },
    {
      "cell_type": "code",
      "source": [
        "plt.plot(history.history['loss'])\n",
        "plt.plot(history.history['val_loss'])\n",
        "plt.title('Model Loss')\n",
        "plt.ylabel('loss')\n",
        "plt.xlabel('epoch')\n",
        "plt.legend(['training set','validation set'], loc='upper left')\n",
        "plt.show()"
      ],
      "metadata": {
        "id": "ipYFIBAlT6NO",
        "colab": {
          "base_uri": "https://localhost:8080/",
          "height": 295
        },
        "outputId": "366b2841-03ee-42ae-9887-19c630ea470c"
      },
      "execution_count": 30,
      "outputs": [
        {
          "output_type": "display_data",
          "data": {
            "text/plain": [
              "<Figure size 432x288 with 1 Axes>"
            ],
            "image/png": "[encoded data removed]"
          },
          "metadata": {
            "needs_background": "light"
          }
        }
      ]
    },
    {
      "cell_type": "code",
      "source": [
        "tf.keras.utils.plot_model(model,'model_image.png', show_shapes = True)"
      ],
      "metadata": {
        "id": "M-upzOZhRPAF",
        "colab": {
          "base_uri": "https://localhost:8080/",
          "height": 1000
        },
        "outputId": "e5607e30-e580-4443-f969-e222f830b1d7"
      },
      "execution_count": 31,
      "outputs": [
        {
          "output_type": "execute_result",
          "data": {
            "image/png": "[encoded data removed]",
            "text/plain": [
              "<IPython.core.display.Image object>"
            ]
          },
          "metadata": {},
          "execution_count": 31
        }
      ]
    }
  ]
}